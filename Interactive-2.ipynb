{
 "cells": [
  {
   "cell_type": "markdown",
   "metadata": {},
   "source": [
    "Connected to .venv (Python 3.12.0)"
   ]
  },
  {
   "cell_type": "code",
   "execution_count": null,
   "id": "c8fb07ed-042e-4e09-8682-0e03b719e26e",
   "metadata": {
    "vscode": {
     "languageId": "quarto"
    }
   },
   "outputs": [],
   "source": [
    "import pandas, plotly,itables"
   ]
  },
  {
   "cell_type": "code",
   "execution_count": null,
   "id": "034923e1-cb2d-43b9-9ded-809ecb602942",
   "metadata": {
    "vscode": {
     "languageId": "quarto"
    }
   },
   "outputs": [
    {
     "ename": "NameError",
     "evalue": "name 'px' is not defined",
     "output_type": "error",
     "traceback": [
      "\u001b[1;31m---------------------------------------------------------------------------\u001b[0m",
      "\u001b[1;31mNameError\u001b[0m                                 Traceback (most recent call last)",
      "File \u001b[1;32mc:\\Users\\DOWINO5\\OneDrive - United Nations\\Desktop\\graph courses\\week_04_workshop.qmd:1\u001b[0m\n\u001b[1;32m----> 1\u001b[0m px\u001b[39m.\u001b[39mhistogram(india_tb,x\u001b[39m=\u001b[39m\u001b[39m\"\u001b[39m\u001b[39mAge\u001b[39m\u001b[39m\"\u001b[39m)\n",
      "\u001b[1;31mNameError\u001b[0m: name 'px' is not defined"
     ]
    }
   ],
   "source": [
    "px.histogram(india_tb,x=\"Age\")"
   ]
  },
  {
   "cell_type": "code",
   "execution_count": null,
   "id": "f2d3adba-765e-4777-baeb-eb8388092100",
   "metadata": {
    "vscode": {
     "languageId": "quarto"
    }
   },
   "outputs": [
    {
     "ename": "NameError",
     "evalue": "name 'india_tb' is not defined",
     "output_type": "error",
     "traceback": [
      "\u001b[1;31m---------------------------------------------------------------------------\u001b[0m",
      "\u001b[1;31mNameError\u001b[0m                                 Traceback (most recent call last)",
      "File \u001b[1;32mc:\\Users\\DOWINO5\\OneDrive - United Nations\\Desktop\\graph courses\\week_04_workshop.qmd:2\u001b[0m\n\u001b[0;32m      1\u001b[0m \u001b[39mimport\u001b[39;00m\u001b[39m \u001b[39m\u001b[39mplotly\u001b[39;00m\u001b[39m.\u001b[39;00m\u001b[39mexpress\u001b[39;00m\u001b[39m \u001b[39m\u001b[39mas\u001b[39;00m\u001b[39m \u001b[39m\u001b[39mpx\u001b[39;00m\n\u001b[1;32m----> 2\u001b[0m px\u001b[39m.\u001b[39mhistogram(india_tb, x \u001b[39m=\u001b[39m\u001b[39m\"\u001b[39m\u001b[39mForm of TB\u001b[39m\u001b[39m\"\u001b[39m , color \u001b[39m=\u001b[39m \u001b[39m\"\u001b[39m\u001b[39mSex\u001b[39m\u001b[39m\"\u001b[39m)\n",
      "\u001b[1;31mNameError\u001b[0m: name 'india_tb' is not defined"
     ]
    }
   ],
   "source": [
    "import plotly.express as px\n",
    "px.histogram(india_tb, x =\"Form of TB\" , color = \"Sex\")"
   ]
  },
  {
   "cell_type": "code",
   "execution_count": null,
   "id": "c06ef76f-f307-42c5-9c3b-947052cc8b41",
   "metadata": {
    "vscode": {
     "languageId": "quarto"
    }
   },
   "outputs": [
    {
     "data": {
      "text/html": [
       "<div>\n",
       "<style scoped>\n",
       "    .dataframe tbody tr th:only-of-type {\n",
       "        vertical-align: middle;\n",
       "    }\n",
       "\n",
       "    .dataframe tbody tr th {\n",
       "        vertical-align: top;\n",
       "    }\n",
       "\n",
       "    .dataframe thead th {\n",
       "        text-align: right;\n",
       "    }\n",
       "</style>\n",
       "<table border=\"1\" class=\"dataframe\">\n",
       "  <thead>\n",
       "    <tr style=\"text-align: right;\">\n",
       "      <th></th>\n",
       "      <th>id</th>\n",
       "      <th>Sex</th>\n",
       "      <th>Age</th>\n",
       "      <th>Education</th>\n",
       "      <th>Employment</th>\n",
       "      <th>Alcohol</th>\n",
       "      <th>Smoking</th>\n",
       "      <th>WtinKgs</th>\n",
       "      <th>HtinCms</th>\n",
       "      <th>bmi</th>\n",
       "      <th>...</th>\n",
       "      <th>Form of TB</th>\n",
       "      <th>Chext Xray</th>\n",
       "      <th>first visit location</th>\n",
       "      <th>first visit cost</th>\n",
       "      <th>second visit location</th>\n",
       "      <th>second visit cost</th>\n",
       "      <th>third visit location</th>\n",
       "      <th>third visit cost</th>\n",
       "      <th>Health sys delay (in days)</th>\n",
       "      <th>Treatment initiation delay (in days)</th>\n",
       "    </tr>\n",
       "  </thead>\n",
       "  <tbody>\n",
       "    <tr>\n",
       "      <th>0</th>\n",
       "      <td>100202</td>\n",
       "      <td>Male</td>\n",
       "      <td>57</td>\n",
       "      <td>Middle</td>\n",
       "      <td>Working</td>\n",
       "      <td>Yes</td>\n",
       "      <td>Yes</td>\n",
       "      <td>58.0</td>\n",
       "      <td>165.0</td>\n",
       "      <td>21.3</td>\n",
       "      <td>...</td>\n",
       "      <td>Ini smear +</td>\n",
       "      <td>NaN</td>\n",
       "      <td>GH</td>\n",
       "      <td>0</td>\n",
       "      <td>NaN</td>\n",
       "      <td>0</td>\n",
       "      <td>NaN</td>\n",
       "      <td>0</td>\n",
       "      <td>15.0</td>\n",
       "      <td>10.0</td>\n",
       "    </tr>\n",
       "    <tr>\n",
       "      <th>1</th>\n",
       "      <td>100396</td>\n",
       "      <td>Female</td>\n",
       "      <td>66</td>\n",
       "      <td>No Education</td>\n",
       "      <td>Non - Working</td>\n",
       "      <td>No</td>\n",
       "      <td>No</td>\n",
       "      <td>32.0</td>\n",
       "      <td>163.0</td>\n",
       "      <td>12.0</td>\n",
       "      <td>...</td>\n",
       "      <td>Ini smear -</td>\n",
       "      <td>Positive</td>\n",
       "      <td>Pvt. docto</td>\n",
       "      <td>1500</td>\n",
       "      <td>Pvt. clini</td>\n",
       "      <td>1000</td>\n",
       "      <td>Pvt. hospi</td>\n",
       "      <td>2500</td>\n",
       "      <td>60.0</td>\n",
       "      <td>4.0</td>\n",
       "    </tr>\n",
       "    <tr>\n",
       "      <th>2</th>\n",
       "      <td>100590</td>\n",
       "      <td>Female</td>\n",
       "      <td>45</td>\n",
       "      <td>Missing</td>\n",
       "      <td>Non - Working</td>\n",
       "      <td>No</td>\n",
       "      <td>No</td>\n",
       "      <td>46.0</td>\n",
       "      <td>150.0</td>\n",
       "      <td>20.4</td>\n",
       "      <td>...</td>\n",
       "      <td>Ini smear -</td>\n",
       "      <td>Positive</td>\n",
       "      <td>Pvt. docto</td>\n",
       "      <td>2000</td>\n",
       "      <td>Pvt. docto</td>\n",
       "      <td>3000</td>\n",
       "      <td>PHC</td>\n",
       "      <td>0</td>\n",
       "      <td>43.0</td>\n",
       "      <td>21.0</td>\n",
       "    </tr>\n",
       "    <tr>\n",
       "      <th>3</th>\n",
       "      <td>100687</td>\n",
       "      <td>Male</td>\n",
       "      <td>27</td>\n",
       "      <td>Middle</td>\n",
       "      <td>Non - Working</td>\n",
       "      <td>No</td>\n",
       "      <td>No</td>\n",
       "      <td>51.0</td>\n",
       "      <td>165.0</td>\n",
       "      <td>18.7</td>\n",
       "      <td>...</td>\n",
       "      <td>Ini smear +</td>\n",
       "      <td>NaN</td>\n",
       "      <td>Pvt. hospi</td>\n",
       "      <td>20000</td>\n",
       "      <td>Pvt. hospi</td>\n",
       "      <td>1500</td>\n",
       "      <td>PHC</td>\n",
       "      <td>0</td>\n",
       "      <td>35.0</td>\n",
       "      <td>5.0</td>\n",
       "    </tr>\n",
       "    <tr>\n",
       "      <th>4</th>\n",
       "      <td>100784</td>\n",
       "      <td>Male</td>\n",
       "      <td>54</td>\n",
       "      <td>Middle</td>\n",
       "      <td>Non - Working</td>\n",
       "      <td>No</td>\n",
       "      <td>No</td>\n",
       "      <td>39.0</td>\n",
       "      <td>160.0</td>\n",
       "      <td>15.2</td>\n",
       "      <td>...</td>\n",
       "      <td>Ini smear +</td>\n",
       "      <td>Positive</td>\n",
       "      <td>Pvt. docto</td>\n",
       "      <td>1000</td>\n",
       "      <td>GH</td>\n",
       "      <td>0</td>\n",
       "      <td>NaN</td>\n",
       "      <td>0</td>\n",
       "      <td>14.0</td>\n",
       "      <td>6.0</td>\n",
       "    </tr>\n",
       "    <tr>\n",
       "      <th>...</th>\n",
       "      <td>...</td>\n",
       "      <td>...</td>\n",
       "      <td>...</td>\n",
       "      <td>...</td>\n",
       "      <td>...</td>\n",
       "      <td>...</td>\n",
       "      <td>...</td>\n",
       "      <td>...</td>\n",
       "      <td>...</td>\n",
       "      <td>...</td>\n",
       "      <td>...</td>\n",
       "      <td>...</td>\n",
       "      <td>...</td>\n",
       "      <td>...</td>\n",
       "      <td>...</td>\n",
       "      <td>...</td>\n",
       "      <td>...</td>\n",
       "      <td>...</td>\n",
       "      <td>...</td>\n",
       "      <td>...</td>\n",
       "      <td>...</td>\n",
       "    </tr>\n",
       "    <tr>\n",
       "      <th>875</th>\n",
       "      <td>1604672</td>\n",
       "      <td>Male</td>\n",
       "      <td>44</td>\n",
       "      <td>Middle</td>\n",
       "      <td>Working</td>\n",
       "      <td>Yes</td>\n",
       "      <td>Yes</td>\n",
       "      <td>42.7</td>\n",
       "      <td>175.0</td>\n",
       "      <td>13.9</td>\n",
       "      <td>...</td>\n",
       "      <td>Ini smear +</td>\n",
       "      <td>NaN</td>\n",
       "      <td>Pvt. docto</td>\n",
       "      <td>9000</td>\n",
       "      <td>Pvt. docto</td>\n",
       "      <td>800</td>\n",
       "      <td>GH</td>\n",
       "      <td>0</td>\n",
       "      <td>14.0</td>\n",
       "      <td>11.0</td>\n",
       "    </tr>\n",
       "    <tr>\n",
       "      <th>876</th>\n",
       "      <td>1604769</td>\n",
       "      <td>Male</td>\n",
       "      <td>60</td>\n",
       "      <td>Middle</td>\n",
       "      <td>Working</td>\n",
       "      <td>No</td>\n",
       "      <td>No</td>\n",
       "      <td>64.2</td>\n",
       "      <td>175.0</td>\n",
       "      <td>21.0</td>\n",
       "      <td>...</td>\n",
       "      <td>Ini smear +</td>\n",
       "      <td>Positive</td>\n",
       "      <td>Pvt. clini</td>\n",
       "      <td>500</td>\n",
       "      <td>Tambram Sanatorium</td>\n",
       "      <td>0</td>\n",
       "      <td>NaN</td>\n",
       "      <td>0</td>\n",
       "      <td>14.0</td>\n",
       "      <td>10.0</td>\n",
       "    </tr>\n",
       "    <tr>\n",
       "      <th>877</th>\n",
       "      <td>1604866</td>\n",
       "      <td>Male</td>\n",
       "      <td>63</td>\n",
       "      <td>Middle</td>\n",
       "      <td>Working</td>\n",
       "      <td>No</td>\n",
       "      <td>Yes</td>\n",
       "      <td>38.5</td>\n",
       "      <td>160.0</td>\n",
       "      <td>15.0</td>\n",
       "      <td>...</td>\n",
       "      <td>Ini smear +</td>\n",
       "      <td>NaN</td>\n",
       "      <td>Pvt. docto</td>\n",
       "      <td>1000</td>\n",
       "      <td>Tambram Sanatorium</td>\n",
       "      <td>0</td>\n",
       "      <td>NaN</td>\n",
       "      <td>0</td>\n",
       "      <td>180.0</td>\n",
       "      <td>22.0</td>\n",
       "    </tr>\n",
       "    <tr>\n",
       "      <th>878</th>\n",
       "      <td>1604963</td>\n",
       "      <td>Male</td>\n",
       "      <td>65</td>\n",
       "      <td>No Education</td>\n",
       "      <td>Working</td>\n",
       "      <td>No</td>\n",
       "      <td>No</td>\n",
       "      <td>37.0</td>\n",
       "      <td>167.0</td>\n",
       "      <td>13.3</td>\n",
       "      <td>...</td>\n",
       "      <td>Ini smear +</td>\n",
       "      <td>NaN</td>\n",
       "      <td>PHC</td>\n",
       "      <td>0</td>\n",
       "      <td>Tambram Sanatorium</td>\n",
       "      <td>0</td>\n",
       "      <td>NaN</td>\n",
       "      <td>0</td>\n",
       "      <td>150.0</td>\n",
       "      <td>20.0</td>\n",
       "    </tr>\n",
       "    <tr>\n",
       "      <th>879</th>\n",
       "      <td>1605060</td>\n",
       "      <td>Male</td>\n",
       "      <td>60</td>\n",
       "      <td>Middle</td>\n",
       "      <td>Working</td>\n",
       "      <td>No</td>\n",
       "      <td>No</td>\n",
       "      <td>46.8</td>\n",
       "      <td>155.5</td>\n",
       "      <td>19.4</td>\n",
       "      <td>...</td>\n",
       "      <td>Missing</td>\n",
       "      <td>Positive</td>\n",
       "      <td>Pvt. hospi</td>\n",
       "      <td>300</td>\n",
       "      <td>Pvt. clini</td>\n",
       "      <td>3200</td>\n",
       "      <td>GH</td>\n",
       "      <td>0</td>\n",
       "      <td>90.0</td>\n",
       "      <td>2.0</td>\n",
       "    </tr>\n",
       "  </tbody>\n",
       "</table>\n",
       "<p>880 rows × 21 columns</p>\n",
       "</div>"
      ],
      "text/plain": [
       "          id     Sex  Age     Education     Employment Alcohol Smoking  \\\n",
       "0     100202    Male   57        Middle        Working     Yes     Yes   \n",
       "1     100396  Female   66  No Education  Non - Working      No      No   \n",
       "2     100590  Female   45       Missing  Non - Working      No      No   \n",
       "3     100687    Male   27        Middle  Non - Working      No      No   \n",
       "4     100784    Male   54        Middle  Non - Working      No      No   \n",
       "..       ...     ...  ...           ...            ...     ...     ...   \n",
       "875  1604672    Male   44        Middle        Working     Yes     Yes   \n",
       "876  1604769    Male   60        Middle        Working      No      No   \n",
       "877  1604866    Male   63        Middle        Working      No     Yes   \n",
       "878  1604963    Male   65  No Education        Working      No      No   \n",
       "879  1605060    Male   60        Middle        Working      No      No   \n",
       "\n",
       "     WtinKgs  HtinCms   bmi  ...   Form of TB Chext Xray first visit location  \\\n",
       "0       58.0    165.0  21.3  ...  Ini smear +        NaN                   GH   \n",
       "1       32.0    163.0  12.0  ...  Ini smear -   Positive           Pvt. docto   \n",
       "2       46.0    150.0  20.4  ...  Ini smear -   Positive           Pvt. docto   \n",
       "3       51.0    165.0  18.7  ...  Ini smear +        NaN           Pvt. hospi   \n",
       "4       39.0    160.0  15.2  ...  Ini smear +   Positive           Pvt. docto   \n",
       "..       ...      ...   ...  ...          ...        ...                  ...   \n",
       "875     42.7    175.0  13.9  ...  Ini smear +        NaN           Pvt. docto   \n",
       "876     64.2    175.0  21.0  ...  Ini smear +   Positive           Pvt. clini   \n",
       "877     38.5    160.0  15.0  ...  Ini smear +        NaN           Pvt. docto   \n",
       "878     37.0    167.0  13.3  ...  Ini smear +        NaN                  PHC   \n",
       "879     46.8    155.5  19.4  ...      Missing   Positive           Pvt. hospi   \n",
       "\n",
       "    first visit cost  second visit location second visit cost  \\\n",
       "0                  0                    NaN                 0   \n",
       "1               1500             Pvt. clini              1000   \n",
       "2               2000             Pvt. docto              3000   \n",
       "3              20000             Pvt. hospi              1500   \n",
       "4               1000                     GH                 0   \n",
       "..               ...                    ...               ...   \n",
       "875             9000             Pvt. docto               800   \n",
       "876              500     Tambram Sanatorium                 0   \n",
       "877             1000     Tambram Sanatorium                 0   \n",
       "878                0     Tambram Sanatorium                 0   \n",
       "879              300             Pvt. clini              3200   \n",
       "\n",
       "     third visit location third visit cost  Health sys delay (in days)  \\\n",
       "0                     NaN                0                        15.0   \n",
       "1              Pvt. hospi             2500                        60.0   \n",
       "2                     PHC                0                        43.0   \n",
       "3                     PHC                0                        35.0   \n",
       "4                     NaN                0                        14.0   \n",
       "..                    ...              ...                         ...   \n",
       "875                    GH                0                        14.0   \n",
       "876                   NaN                0                        14.0   \n",
       "877                   NaN                0                       180.0   \n",
       "878                   NaN                0                       150.0   \n",
       "879                    GH                0                        90.0   \n",
       "\n",
       "     Treatment initiation delay (in days)  \n",
       "0                                    10.0  \n",
       "1                                     4.0  \n",
       "2                                    21.0  \n",
       "3                                     5.0  \n",
       "4                                     6.0  \n",
       "..                                    ...  \n",
       "875                                  11.0  \n",
       "876                                  10.0  \n",
       "877                                  22.0  \n",
       "878                                  20.0  \n",
       "879                                   2.0  \n",
       "\n",
       "[880 rows x 21 columns]"
      ]
     },
     "execution_count": 4,
     "metadata": {},
     "output_type": "execute_result"
    }
   ],
   "source": [
    "import pandas as pd\n",
    "india_tb = pd.read_csv(\"india_tb_pathways_and_costs.csv\")\n",
    "from itables import show\n",
    "india_tb"
   ]
  },
  {
   "cell_type": "code",
   "execution_count": null,
   "id": "6d640505-84b1-4cfa-a1d5-660ca8d4bd60",
   "metadata": {
    "vscode": {
     "languageId": "quarto"
    }
   },
   "outputs": [
    {
     "data": {
      "application/vnd.plotly.v1+json": {
       "config": {
        "plotlyServerURL": "https://plot.ly"
       },
       "data": [
        {
         "bingroup": "x",
         "hovertemplate": "Sex=Male<br>Form of TB=%{x}<br>count=%{y}<extra></extra>",
         "legendgroup": "Male",
         "marker": {
          "color": "#636efa",
          "pattern": {
           "shape": ""
          }
         },
         "name": "Male",
         "orientation": "v",
         "showlegend": true,
         "type": "histogram",
         "x": [
          "Ini smear +",
          "Ini smear +",
          "Ini smear +",
          "Ini smear +",
          "Ini smear +",
          "Ini smear +",
          "Ini smear +",
          "Ini smear +",
          "Ini smear +",
          "Ini smear +",
          "Ini smear +",
          "Ini smear +",
          "Ini smear +",
          "Ini smear +",
          "Ini smear +",
          "Ini smear +",
          "Ini smear +",
          "Ini smear +",
          "Ini smear +",
          "Ini smear +",
          "Ini smear +",
          "Ini smear +",
          "Ini smear +",
          "Ini smear +",
          "Ini smear +",
          "Ini smear +",
          "Ini smear +",
          "Ini smear +",
          "Ini smear +",
          "Ini smear +",
          "Ini smear +",
          "Ini smear +",
          "Ini smear +",
          "Ini smear +",
          "Ini smear +",
          "Ini smear -",
          "Ini smear -",
          "Missing",
          "Ini smear -",
          "Ini smear -",
          "Ini smear +",
          "Ini smear +",
          "Ini smear +",
          "Ini smear +",
          "Ini smear -",
          "Ini smear -",
          "Ini smear +",
          "Ini smear +",
          "Ini smear +",
          "Ini smear -",
          "Ini smear +",
          "Ini smear +",
          "Ini smear +",
          "Ini smear +",
          "Ini smear +",
          "Ini smear +",
          "Ini smear -",
          "Ini smear +",
          "Ini smear -",
          "Ini smear +",
          "Ini smear +",
          "Ini smear +",
          "Ini smear +",
          "Ini smear +",
          "Ini smear +",
          "Ini smear +",
          "Ini smear +",
          "Ini smear +",
          "Ini smear +",
          "Ini smear +",
          "Ini smear -",
          "Ini smear +",
          "Ini smear -",
          "Ini smear +",
          "Ini smear +",
          "Ini smear +",
          "Ini smear +",
          "Ini smear +",
          "Ini smear +",
          "Ini smear +",
          "Ini smear +",
          "Ini smear +",
          "Ini smear +",
          "Ini smear +",
          "Ini smear +",
          "Ini smear -",
          "Ini smear -",
          "Ini smear +",
          "Ini smear +",
          "Ini smear -",
          "Ini smear -",
          "Ini smear +",
          "Ini smear +",
          "Ini smear +",
          "Ini smear +",
          "Ini smear +",
          "Ini smear +",
          "Ini smear +",
          "Ini smear +",
          "Ini smear -",
          "Ini smear +",
          "Ini smear +",
          "Ini smear +",
          "Ini smear +",
          "Ini smear -",
          "Ini smear -",
          "Ini smear +",
          "Ini smear -",
          "Ini smear +",
          "Ini smear +",
          "Ini smear +",
          "Ini smear +",
          "Ini smear +",
          "Ini smear +",
          "Ini smear +",
          "Ini smear +",
          "Ini smear +",
          "Ini smear +",
          "Ini smear -",
          "Ini smear +",
          "Ini smear -",
          "Ini smear +",
          "Ini smear +",
          "Ini smear -",
          "Ini smear +",
          "Ini smear +",
          "Ini smear +",
          "Ini smear +",
          "Ini smear +",
          "Ini smear +",
          "Ini smear +",
          "Ini smear +",
          "Ini smear -",
          "Ini smear +",
          "Ini smear +",
          "Ini smear -",
          "Ini smear +",
          "Ini smear +",
          "Ini smear +",
          "Ini smear +",
          "Ini smear +",
          "Ini smear -",
          "Ini smear +",
          "Ini smear +",
          "Ini smear -",
          "Ini smear +",
          "Ini smear +",
          "Ini smear +",
          "Ini smear +",
          "Ini smear +",
          "Ini smear -",
          "Ini smear -",
          "Ini smear -",
          "Ini smear +",
          "Ini smear +",
          "Ini smear +",
          "Ini smear -",
          "Ini smear -",
          "Ini smear +",
          "Ini smear +",
          "Ini smear +",
          "Ini smear -",
          "Ini smear +",
          "Ini smear +",
          "Ini smear +",
          "Ini smear +",
          "Ini smear -",
          "Ini smear +",
          "Ini smear +",
          "Ini smear +",
          "Ini smear -",
          "Ini smear +",
          "Ini smear +",
          "Ini smear +",
          "Ini smear +",
          "Ini smear +",
          "Ini smear +",
          "Ini smear +",
          "Ini smear +",
          "Ini smear +",
          "Ini smear -",
          "Ini smear +",
          "Ini smear +",
          "Ini smear -",
          "Missing",
          "Ini smear +",
          "Ini smear +",
          "Ini smear +",
          "Ini smear +",
          "Ini smear -",
          "Ini smear +",
          "Ini smear +",
          "Ini smear +",
          "Ini smear +",
          "Ini smear +",
          "Ini smear -",
          "Ini smear +",
          "Ini smear +",
          "Ini smear +",
          "Ini smear +",
          "Ini smear +",
          "Ini smear -",
          "Ini smear -",
          "Ini smear +",
          "Ini smear +",
          "Ini smear +",
          "Ini smear +",
          "Ini smear +",
          "Ini smear +",
          "Missing",
          "Ini smear +",
          "Ini smear +",
          "Ini smear +",
          "Ini smear +",
          "Ini smear +",
          "Ini smear +",
          "Ini smear +",
          "Ini smear +",
          "Ini smear +",
          "Ini smear +",
          "Ini smear +",
          "Ini smear +",
          "Ini smear +",
          "Ini smear +",
          "Ini smear +",
          "Ini smear +",
          "Ini smear +",
          "Ini smear -",
          "Ini smear +",
          "Ini smear +",
          "Ini smear +",
          "Ini smear +",
          "Ini smear +",
          "Ini smear +",
          "Ini smear +",
          "Ini smear +",
          "Ini smear +",
          "Ini smear -",
          "Ini smear +",
          "Ini smear -",
          "Ini smear +",
          "Ini smear -",
          "Ini smear -",
          "Ini smear +",
          "Ini smear +",
          "Missing",
          "Ini smear -",
          "Ini smear +",
          "Ini smear +",
          "Ini smear +",
          "Ini smear +",
          "Ini smear +",
          "Ini smear +",
          "Ini smear +",
          "Ini smear +",
          "Ini smear +",
          "Ini smear -",
          "Ini smear +",
          "Ini smear +",
          "Ini smear +",
          "Ini smear +",
          "Ini smear -",
          "Ini smear +",
          "Ini smear +",
          "Ini smear +",
          "Ini smear +",
          "Ini smear +",
          "Ini smear +",
          "Ini smear +",
          "Ini smear +",
          "Ini smear +",
          "Ini smear -",
          "Ini smear +",
          "Ini smear +",
          "Ini smear -",
          "Ini smear +",
          "Ini smear +",
          "Ini smear +",
          "Ini smear +",
          "Ini smear +",
          "Ini smear +",
          "Ini smear +",
          "Ini smear -",
          "Ini smear +",
          "Missing",
          "Ini smear +",
          "Ini smear -",
          "Ini smear -",
          "Ini smear +",
          "Ini smear +",
          "Ini smear +",
          "Ini smear -",
          "Ini smear +",
          "Ini smear +",
          "Ini smear -",
          "Ini smear +",
          "Ini smear +",
          "Ini smear +",
          "Ini smear +",
          "Ini smear -",
          "Ini smear -",
          "Ini smear +",
          "Ini smear +",
          "Ini smear -",
          "Ini smear +",
          "Ini smear +",
          "Ini smear +",
          "Ini smear +",
          "Ini smear +",
          "Ini smear +",
          "Ini smear +",
          "Ini smear +",
          "Ini smear +",
          "Ini smear +",
          "Ini smear +",
          "Ini smear +",
          "Ini smear +",
          "Ini smear +",
          "Ini smear +",
          "Ini smear +",
          "Ini smear +",
          "Ini smear +",
          "Ini smear +",
          "Missing",
          "Ini smear +",
          "Ini smear +",
          "Ini smear +",
          "Ini smear +",
          "Ini smear +",
          "Ini smear +",
          "Ini smear +",
          "Ini smear +",
          "Ini smear +",
          "Ini smear +",
          "Ini smear +",
          "Ini smear +",
          "Missing",
          "Ini smear +",
          "Ini smear +",
          "Ini smear +",
          "Ini smear -",
          "Ini smear +",
          "Ini smear -",
          "Ini smear +",
          "Ini smear +",
          "Ini smear +",
          "Ini smear +",
          "Ini smear +",
          "Ini smear +",
          "Ini smear +",
          "Ini smear +",
          "Ini smear +",
          "Ini smear +",
          "Ini smear +",
          "Ini smear -",
          "Ini smear +",
          "Ini smear +",
          "Ini smear -",
          "Ini smear +",
          "Ini smear +",
          "Ini smear +",
          "Ini smear +",
          "Ini smear +",
          "Ini smear -",
          "Ini smear +",
          "Ini smear +",
          "Ini smear +",
          "Ini smear +",
          "Ini smear +",
          "Ini smear +",
          "Ini smear +",
          "Ini smear +",
          "Ini smear +",
          "Ini smear +",
          "Ini smear +",
          "Ini smear +",
          "Ini smear +",
          "Ini smear +",
          "Ini smear +",
          "Ini smear +",
          "Ini smear +",
          "Ini smear +",
          "Ini smear +",
          "Ini smear -",
          "Ini smear +",
          "Ini smear +",
          "Ini smear +",
          "Ini smear +",
          "Ini smear -",
          "Ini smear +",
          "Ini smear +",
          "Ini smear -",
          "Ini smear +",
          "Ini smear +",
          "Ini smear +",
          "Ini smear +",
          "Ini smear +",
          "Ini smear +",
          "Ini smear +",
          "Ini smear +",
          "Ini smear +",
          "Ini smear -",
          "Ini smear +",
          "Ini smear +",
          "Ini smear +",
          "Missing",
          "Ini smear +",
          "Ini smear +",
          "Ini smear +",
          "Ini smear +",
          "Ini smear +",
          "Ini smear +",
          "Ini smear +",
          "Ini smear -",
          "Ini smear +",
          "Ini smear +",
          "Ini smear +",
          "Ini smear -",
          "Ini smear +",
          "Ini smear +",
          "Ini smear +",
          "Ini smear +",
          "Ini smear +",
          "Ini smear +",
          "Ini smear -",
          "Ini smear +",
          "Ini smear +",
          "Ini smear +",
          "Ini smear +",
          "Ini smear -",
          "Ini smear -",
          "Ini smear +",
          "Ini smear -",
          "Ini smear -",
          "Ini smear +",
          "Ini smear +",
          "Ini smear -",
          "Missing",
          "Ini smear +",
          "Ini smear +",
          "Ini smear -",
          "Ini smear +",
          "Ini smear +",
          "Ini smear +",
          "Ini smear +",
          "Ini smear +",
          "Ini smear -",
          "Ini smear +",
          "Ini smear +",
          "Ini smear +",
          "Ini smear -",
          "Ini smear +",
          "Ini smear +",
          "Ini smear +",
          "Ini smear -",
          "Ini smear +",
          "Ini smear +",
          "Ini smear +",
          "Ini smear +",
          "Ini smear -",
          "Missing",
          "Ini smear +",
          "Ini smear +",
          "Ini smear +",
          "Ini smear +",
          "Ini smear +",
          "Ini smear -",
          "Ini smear +",
          "Ini smear +",
          "Ini smear +",
          "Ini smear -",
          "Ini smear +",
          "Ini smear +",
          "Ini smear +",
          "Ini smear +",
          "Ini smear -",
          "Ini smear -",
          "Ini smear +",
          "Ini smear -",
          "Ini smear +",
          "Ini smear +",
          "Ini smear -",
          "Ini smear -",
          "Ini smear +",
          "Ini smear +",
          "Ini smear +",
          "Ini smear +",
          "Ini smear -",
          "Ini smear +",
          "Ini smear -",
          "Ini smear +",
          "Ini smear +",
          "Ini smear +",
          "Ini smear +",
          "Ini smear +",
          "Ini smear +",
          "Ini smear -",
          "Missing",
          "Ini smear +",
          "Ini smear +",
          "Ini smear +",
          "Ini smear -",
          "Ini smear +",
          "Ini smear -",
          "Ini smear +",
          "Ini smear -",
          "Ini smear +",
          "Ini smear +",
          "Ini smear +",
          "Ini smear +",
          "Ini smear +",
          "Ini smear -",
          "Ini smear +",
          "Ini smear +",
          "Ini smear -",
          "Ini smear -",
          "Ini smear +",
          "Ini smear +",
          "Ini smear -",
          "Ini smear +",
          "Ini smear +",
          "Ini smear +",
          "Ini smear +",
          "Ini smear +",
          "Ini smear -",
          "Ini smear -",
          "Ini smear +",
          "Ini smear +",
          "Ini smear +",
          "Ini smear +",
          "Ini smear +",
          "Ini smear -",
          "Ini smear -",
          "Ini smear +",
          "Ini smear +",
          "Ini smear +",
          "Ini smear +",
          "Ini smear +",
          "Ini smear +",
          "Ini smear +",
          "Ini smear +",
          "Ini smear -",
          "Ini smear +",
          "Ini smear +",
          "Ini smear +",
          "Ini smear +",
          "Ini smear +",
          "Ini smear -",
          "Ini smear -",
          "Ini smear +",
          "Ini smear +",
          "Ini smear +",
          "Ini smear -",
          "Ini smear -",
          "Ini smear +",
          "Ini smear +",
          "Ini smear +",
          "Missing",
          "Ini smear -",
          "Missing",
          "Ini smear +",
          "Ini smear +",
          "Ini smear -",
          "Ini smear +",
          "Ini smear -",
          "Ini smear -",
          "Ini smear -",
          "Ini smear +",
          "Ini smear +",
          "Ini smear +",
          "Ini smear +",
          "Ini smear +",
          "Ini smear +",
          "Ini smear +",
          "Ini smear +",
          "Ini smear +",
          "Ini smear +",
          "Ini smear +",
          "Ini smear +",
          "Ini smear +",
          "Ini smear +",
          "Ini smear -",
          "Ini smear +",
          "Ini smear -",
          "Ini smear +",
          "Ini smear +",
          "Ini smear +",
          "Ini smear +",
          "Ini smear -",
          "Ini smear +",
          "Ini smear -",
          "Ini smear +",
          "Ini smear +",
          "Ini smear +",
          "Ini smear +",
          "Ini smear +",
          "Ini smear +",
          "Ini smear +",
          "Ini smear +",
          "Ini smear +",
          "Ini smear +",
          "Ini smear +",
          "Ini smear -",
          "Ini smear +",
          "Ini smear +",
          "Ini smear +",
          "Ini smear +",
          "Ini smear +",
          "Ini smear +",
          "Ini smear +",
          "Ini smear +",
          "Ini smear +",
          "Ini smear -",
          "Ini smear -",
          "Ini smear +",
          "Ini smear -",
          "Ini smear +",
          "Ini smear +",
          "Ini smear +",
          "Ini smear +",
          "Ini smear +",
          "Ini smear +",
          "Ini smear +",
          "Ini smear +",
          "Ini smear +",
          "Ini smear +",
          "Missing",
          "Ini smear +",
          "Ini smear +",
          "Ini smear +",
          "Ini smear -",
          "Ini smear +",
          "Ini smear +",
          "Ini smear +",
          "Ini smear +",
          "Ini smear -",
          "Ini smear +",
          "Ini smear +",
          "Ini smear -",
          "Ini smear -",
          "Ini smear +",
          "Ini smear +",
          "Ini smear +",
          "Ini smear +",
          "Ini smear +",
          "Ini smear +",
          "Ini smear +",
          "Ini smear +",
          "Ini smear +",
          "Ini smear +",
          "Ini smear +",
          "Ini smear -",
          "Ini smear +",
          "Ini smear -",
          "Ini smear +",
          "Ini smear +",
          "Ini smear +",
          "Ini smear +",
          "Ini smear -",
          "Ini smear -",
          "Ini smear -",
          "Ini smear +",
          "Ini smear +",
          "Ini smear +",
          "Ini smear -",
          "Ini smear -",
          "Ini smear +",
          "Ini smear +",
          "Ini smear +",
          "Ini smear +",
          "Ini smear +",
          "Ini smear +",
          "Ini smear +",
          "Ini smear +",
          "Ini smear +",
          "Ini smear +",
          "Ini smear +",
          "Ini smear +",
          "Ini smear +",
          "Ini smear +",
          "Ini smear +",
          "Ini smear +",
          "Ini smear +",
          "Ini smear +",
          "Ini smear +",
          "Ini smear +",
          "Ini smear +",
          "Missing"
         ],
         "xaxis": "x",
         "yaxis": "y"
        },
        {
         "bingroup": "x",
         "hovertemplate": "Sex=Female<br>Form of TB=%{x}<br>count=%{y}<extra></extra>",
         "legendgroup": "Female",
         "marker": {
          "color": "#EF553B",
          "pattern": {
           "shape": ""
          }
         },
         "name": "Female",
         "orientation": "v",
         "showlegend": true,
         "type": "histogram",
         "x": [
          "Ini smear -",
          "Ini smear -",
          "Ini smear +",
          "Ini smear +",
          "Ini smear +",
          "Ini smear -",
          "Ini smear +",
          "Ini smear +",
          "Ini smear -",
          "Ini smear +",
          "Ini smear +",
          "Ini smear +",
          "Ini smear +",
          "Ini smear +",
          "Ini smear +",
          "Ini smear +",
          "Ini smear +",
          "Ini smear +",
          "Ini smear +",
          "Ini smear +",
          "Ini smear +",
          "Ini smear -",
          "Ini smear +",
          "Ini smear +",
          "Ini smear +",
          "Ini smear +",
          "Ini smear -",
          "Ini smear +",
          "Ini smear -",
          "Ini smear +",
          "Ini smear +",
          "Ini smear +",
          "Ini smear +",
          "Ini smear +",
          "Ini smear +",
          "Ini smear +",
          "Ini smear +",
          "Ini smear +",
          "Ini smear +",
          "Ini smear +",
          "Ini smear +",
          "Ini smear +",
          "Ini smear -",
          "Ini smear +",
          "Ini smear +",
          "Ini smear +",
          "Ini smear +",
          "Ini smear +",
          "Missing",
          "Ini smear -",
          "Ini smear +",
          "Ini smear +",
          "Ini smear +",
          "Ini smear +",
          "Ini smear -",
          "Ini smear +",
          "Ini smear -",
          "Ini smear -",
          "Ini smear +",
          "Ini smear +",
          "Ini smear +",
          "Ini smear -",
          "Ini smear +",
          "Ini smear +",
          "Ini smear +",
          "Ini smear -",
          "Ini smear -",
          "Ini smear +",
          "Ini smear +",
          "Ini smear +",
          "Ini smear +",
          "Ini smear +",
          "Ini smear -",
          "Ini smear -",
          "Ini smear -",
          "Ini smear +",
          "Ini smear +",
          "Ini smear +",
          "Ini smear +",
          "Ini smear -",
          "Ini smear +",
          "Ini smear +",
          "Ini smear +",
          "Ini smear +",
          "Ini smear +",
          "Ini smear +",
          "Ini smear -",
          "Ini smear +",
          "Ini smear +",
          "Ini smear +",
          "Ini smear +",
          "Ini smear -",
          "Ini smear +",
          "Ini smear -",
          "Ini smear -",
          "Ini smear +",
          "Ini smear +",
          "Ini smear +",
          "Ini smear +",
          "Ini smear -",
          "Ini smear -",
          "Ini smear +",
          "Ini smear +",
          "Ini smear +",
          "Ini smear +",
          "Ini smear -",
          "Ini smear -",
          "Ini smear +",
          "Ini smear +",
          "Ini smear -",
          "Ini smear +",
          "Ini smear -",
          "Ini smear +",
          "Ini smear +",
          "Ini smear +",
          "Ini smear +",
          "Ini smear +",
          "Ini smear +",
          "Ini smear -",
          "Ini smear -",
          "Ini smear +",
          "Ini smear -",
          "Ini smear +",
          "Ini smear +",
          "Ini smear +",
          "Ini smear -",
          "Ini smear +",
          "Ini smear +",
          "Ini smear +",
          "Ini smear +",
          "Ini smear +",
          "Ini smear +",
          "Ini smear +",
          "Ini smear +",
          "Ini smear +",
          "Ini smear +",
          "Ini smear +",
          "Ini smear +",
          "Ini smear -",
          "Ini smear +",
          "Ini smear -",
          "Ini smear -",
          "Ini smear +",
          "Ini smear +",
          "Ini smear +",
          "Ini smear -",
          "Ini smear -",
          "Ini smear +",
          "Ini smear +",
          "Ini smear +",
          "Ini smear +",
          "Ini smear +",
          "Ini smear -",
          "Ini smear +",
          "Ini smear +",
          "Ini smear +",
          "Ini smear +",
          "Ini smear +",
          "Ini smear +",
          "Ini smear -",
          "Ini smear +",
          "Ini smear -",
          "Ini smear +",
          "Ini smear -",
          "Ini smear -",
          "Ini smear +",
          "Ini smear +",
          "Ini smear +",
          "Ini smear +",
          "Ini smear +",
          "Ini smear -",
          "Ini smear -",
          "Ini smear +",
          "Ini smear +",
          "Ini smear -",
          "Ini smear +",
          "Ini smear +",
          "Ini smear +",
          "Ini smear -",
          "Ini smear +",
          "Ini smear +",
          "Ini smear -",
          "Ini smear +",
          "Ini smear +",
          "Ini smear +",
          "Ini smear +",
          "Ini smear +",
          "Ini smear +",
          "Ini smear +",
          "Ini smear -",
          "Ini smear +",
          "Ini smear +"
         ],
         "xaxis": "x",
         "yaxis": "y"
        }
       ],
       "layout": {
        "barmode": "relative",
        "legend": {
         "title": {
          "text": "Sex"
         },
         "tracegroupgap": 0
        },
        "margin": {
         "t": 60
        },
        "template": {
         "data": {
          "bar": [
           {
            "error_x": {
             "color": "#2a3f5f"
            },
            "error_y": {
             "color": "#2a3f5f"
            },
            "marker": {
             "line": {
              "color": "#E5ECF6",
              "width": 0.5
             },
             "pattern": {
              "fillmode": "overlay",
              "size": 10,
              "solidity": 0.2
             }
            },
            "type": "bar"
           }
          ],
          "barpolar": [
           {
            "marker": {
             "line": {
              "color": "#E5ECF6",
              "width": 0.5
             },
             "pattern": {
              "fillmode": "overlay",
              "size": 10,
              "solidity": 0.2
             }
            },
            "type": "barpolar"
           }
          ],
          "carpet": [
           {
            "aaxis": {
             "endlinecolor": "#2a3f5f",
             "gridcolor": "white",
             "linecolor": "white",
             "minorgridcolor": "white",
             "startlinecolor": "#2a3f5f"
            },
            "baxis": {
             "endlinecolor": "#2a3f5f",
             "gridcolor": "white",
             "linecolor": "white",
             "minorgridcolor": "white",
             "startlinecolor": "#2a3f5f"
            },
            "type": "carpet"
           }
          ],
          "choropleth": [
           {
            "colorbar": {
             "outlinewidth": 0,
             "ticks": ""
            },
            "type": "choropleth"
           }
          ],
          "contour": [
           {
            "colorbar": {
             "outlinewidth": 0,
             "ticks": ""
            },
            "colorscale": [
             [
              0,
              "#0d0887"
             ],
             [
              0.1111111111111111,
              "#46039f"
             ],
             [
              0.2222222222222222,
              "#7201a8"
             ],
             [
              0.3333333333333333,
              "#9c179e"
             ],
             [
              0.4444444444444444,
              "#bd3786"
             ],
             [
              0.5555555555555556,
              "#d8576b"
             ],
             [
              0.6666666666666666,
              "#ed7953"
             ],
             [
              0.7777777777777778,
              "#fb9f3a"
             ],
             [
              0.8888888888888888,
              "#fdca26"
             ],
             [
              1,
              "#f0f921"
             ]
            ],
            "type": "contour"
           }
          ],
          "contourcarpet": [
           {
            "colorbar": {
             "outlinewidth": 0,
             "ticks": ""
            },
            "type": "contourcarpet"
           }
          ],
          "heatmap": [
           {
            "colorbar": {
             "outlinewidth": 0,
             "ticks": ""
            },
            "colorscale": [
             [
              0,
              "#0d0887"
             ],
             [
              0.1111111111111111,
              "#46039f"
             ],
             [
              0.2222222222222222,
              "#7201a8"
             ],
             [
              0.3333333333333333,
              "#9c179e"
             ],
             [
              0.4444444444444444,
              "#bd3786"
             ],
             [
              0.5555555555555556,
              "#d8576b"
             ],
             [
              0.6666666666666666,
              "#ed7953"
             ],
             [
              0.7777777777777778,
              "#fb9f3a"
             ],
             [
              0.8888888888888888,
              "#fdca26"
             ],
             [
              1,
              "#f0f921"
             ]
            ],
            "type": "heatmap"
           }
          ],
          "histogram": [
           {
            "marker": {
             "pattern": {
              "fillmode": "overlay",
              "size": 10,
              "solidity": 0.2
             }
            },
            "type": "histogram"
           }
          ],
          "histogram2d": [
           {
            "colorbar": {
             "outlinewidth": 0,
             "ticks": ""
            },
            "colorscale": [
             [
              0,
              "#0d0887"
             ],
             [
              0.1111111111111111,
              "#46039f"
             ],
             [
              0.2222222222222222,
              "#7201a8"
             ],
             [
              0.3333333333333333,
              "#9c179e"
             ],
             [
              0.4444444444444444,
              "#bd3786"
             ],
             [
              0.5555555555555556,
              "#d8576b"
             ],
             [
              0.6666666666666666,
              "#ed7953"
             ],
             [
              0.7777777777777778,
              "#fb9f3a"
             ],
             [
              0.8888888888888888,
              "#fdca26"
             ],
             [
              1,
              "#f0f921"
             ]
            ],
            "type": "histogram2d"
           }
          ],
          "histogram2dcontour": [
           {
            "colorbar": {
             "outlinewidth": 0,
             "ticks": ""
            },
            "colorscale": [
             [
              0,
              "#0d0887"
             ],
             [
              0.1111111111111111,
              "#46039f"
             ],
             [
              0.2222222222222222,
              "#7201a8"
             ],
             [
              0.3333333333333333,
              "#9c179e"
             ],
             [
              0.4444444444444444,
              "#bd3786"
             ],
             [
              0.5555555555555556,
              "#d8576b"
             ],
             [
              0.6666666666666666,
              "#ed7953"
             ],
             [
              0.7777777777777778,
              "#fb9f3a"
             ],
             [
              0.8888888888888888,
              "#fdca26"
             ],
             [
              1,
              "#f0f921"
             ]
            ],
            "type": "histogram2dcontour"
           }
          ],
          "mesh3d": [
           {
            "colorbar": {
             "outlinewidth": 0,
             "ticks": ""
            },
            "type": "mesh3d"
           }
          ],
          "parcoords": [
           {
            "line": {
             "colorbar": {
              "outlinewidth": 0,
              "ticks": ""
             }
            },
            "type": "parcoords"
           }
          ],
          "pie": [
           {
            "automargin": true,
            "type": "pie"
           }
          ],
          "scatter": [
           {
            "fillpattern": {
             "fillmode": "overlay",
             "size": 10,
             "solidity": 0.2
            },
            "type": "scatter"
           }
          ],
          "scatter3d": [
           {
            "line": {
             "colorbar": {
              "outlinewidth": 0,
              "ticks": ""
             }
            },
            "marker": {
             "colorbar": {
              "outlinewidth": 0,
              "ticks": ""
             }
            },
            "type": "scatter3d"
           }
          ],
          "scattercarpet": [
           {
            "marker": {
             "colorbar": {
              "outlinewidth": 0,
              "ticks": ""
             }
            },
            "type": "scattercarpet"
           }
          ],
          "scattergeo": [
           {
            "marker": {
             "colorbar": {
              "outlinewidth": 0,
              "ticks": ""
             }
            },
            "type": "scattergeo"
           }
          ],
          "scattergl": [
           {
            "marker": {
             "colorbar": {
              "outlinewidth": 0,
              "ticks": ""
             }
            },
            "type": "scattergl"
           }
          ],
          "scattermap": [
           {
            "marker": {
             "colorbar": {
              "outlinewidth": 0,
              "ticks": ""
             }
            },
            "type": "scattermap"
           }
          ],
          "scattermapbox": [
           {
            "marker": {
             "colorbar": {
              "outlinewidth": 0,
              "ticks": ""
             }
            },
            "type": "scattermapbox"
           }
          ],
          "scatterpolar": [
           {
            "marker": {
             "colorbar": {
              "outlinewidth": 0,
              "ticks": ""
             }
            },
            "type": "scatterpolar"
           }
          ],
          "scatterpolargl": [
           {
            "marker": {
             "colorbar": {
              "outlinewidth": 0,
              "ticks": ""
             }
            },
            "type": "scatterpolargl"
           }
          ],
          "scatterternary": [
           {
            "marker": {
             "colorbar": {
              "outlinewidth": 0,
              "ticks": ""
             }
            },
            "type": "scatterternary"
           }
          ],
          "surface": [
           {
            "colorbar": {
             "outlinewidth": 0,
             "ticks": ""
            },
            "colorscale": [
             [
              0,
              "#0d0887"
             ],
             [
              0.1111111111111111,
              "#46039f"
             ],
             [
              0.2222222222222222,
              "#7201a8"
             ],
             [
              0.3333333333333333,
              "#9c179e"
             ],
             [
              0.4444444444444444,
              "#bd3786"
             ],
             [
              0.5555555555555556,
              "#d8576b"
             ],
             [
              0.6666666666666666,
              "#ed7953"
             ],
             [
              0.7777777777777778,
              "#fb9f3a"
             ],
             [
              0.8888888888888888,
              "#fdca26"
             ],
             [
              1,
              "#f0f921"
             ]
            ],
            "type": "surface"
           }
          ],
          "table": [
           {
            "cells": {
             "fill": {
              "color": "#EBF0F8"
             },
             "line": {
              "color": "white"
             }
            },
            "header": {
             "fill": {
              "color": "#C8D4E3"
             },
             "line": {
              "color": "white"
             }
            },
            "type": "table"
           }
          ]
         },
         "layout": {
          "annotationdefaults": {
           "arrowcolor": "#2a3f5f",
           "arrowhead": 0,
           "arrowwidth": 1
          },
          "autotypenumbers": "strict",
          "coloraxis": {
           "colorbar": {
            "outlinewidth": 0,
            "ticks": ""
           }
          },
          "colorscale": {
           "diverging": [
            [
             0,
             "#8e0152"
            ],
            [
             0.1,
             "#c51b7d"
            ],
            [
             0.2,
             "#de77ae"
            ],
            [
             0.3,
             "#f1b6da"
            ],
            [
             0.4,
             "#fde0ef"
            ],
            [
             0.5,
             "#f7f7f7"
            ],
            [
             0.6,
             "#e6f5d0"
            ],
            [
             0.7,
             "#b8e186"
            ],
            [
             0.8,
             "#7fbc41"
            ],
            [
             0.9,
             "#4d9221"
            ],
            [
             1,
             "#276419"
            ]
           ],
           "sequential": [
            [
             0,
             "#0d0887"
            ],
            [
             0.1111111111111111,
             "#46039f"
            ],
            [
             0.2222222222222222,
             "#7201a8"
            ],
            [
             0.3333333333333333,
             "#9c179e"
            ],
            [
             0.4444444444444444,
             "#bd3786"
            ],
            [
             0.5555555555555556,
             "#d8576b"
            ],
            [
             0.6666666666666666,
             "#ed7953"
            ],
            [
             0.7777777777777778,
             "#fb9f3a"
            ],
            [
             0.8888888888888888,
             "#fdca26"
            ],
            [
             1,
             "#f0f921"
            ]
           ],
           "sequentialminus": [
            [
             0,
             "#0d0887"
            ],
            [
             0.1111111111111111,
             "#46039f"
            ],
            [
             0.2222222222222222,
             "#7201a8"
            ],
            [
             0.3333333333333333,
             "#9c179e"
            ],
            [
             0.4444444444444444,
             "#bd3786"
            ],
            [
             0.5555555555555556,
             "#d8576b"
            ],
            [
             0.6666666666666666,
             "#ed7953"
            ],
            [
             0.7777777777777778,
             "#fb9f3a"
            ],
            [
             0.8888888888888888,
             "#fdca26"
            ],
            [
             1,
             "#f0f921"
            ]
           ]
          },
          "colorway": [
           "#636efa",
           "#EF553B",
           "#00cc96",
           "#ab63fa",
           "#FFA15A",
           "#19d3f3",
           "#FF6692",
           "#B6E880",
           "#FF97FF",
           "#FECB52"
          ],
          "font": {
           "color": "#2a3f5f"
          },
          "geo": {
           "bgcolor": "white",
           "lakecolor": "white",
           "landcolor": "#E5ECF6",
           "showlakes": true,
           "showland": true,
           "subunitcolor": "white"
          },
          "hoverlabel": {
           "align": "left"
          },
          "hovermode": "closest",
          "mapbox": {
           "style": "light"
          },
          "paper_bgcolor": "white",
          "plot_bgcolor": "#E5ECF6",
          "polar": {
           "angularaxis": {
            "gridcolor": "white",
            "linecolor": "white",
            "ticks": ""
           },
           "bgcolor": "#E5ECF6",
           "radialaxis": {
            "gridcolor": "white",
            "linecolor": "white",
            "ticks": ""
           }
          },
          "scene": {
           "xaxis": {
            "backgroundcolor": "#E5ECF6",
            "gridcolor": "white",
            "gridwidth": 2,
            "linecolor": "white",
            "showbackground": true,
            "ticks": "",
            "zerolinecolor": "white"
           },
           "yaxis": {
            "backgroundcolor": "#E5ECF6",
            "gridcolor": "white",
            "gridwidth": 2,
            "linecolor": "white",
            "showbackground": true,
            "ticks": "",
            "zerolinecolor": "white"
           },
           "zaxis": {
            "backgroundcolor": "#E5ECF6",
            "gridcolor": "white",
            "gridwidth": 2,
            "linecolor": "white",
            "showbackground": true,
            "ticks": "",
            "zerolinecolor": "white"
           }
          },
          "shapedefaults": {
           "line": {
            "color": "#2a3f5f"
           }
          },
          "ternary": {
           "aaxis": {
            "gridcolor": "white",
            "linecolor": "white",
            "ticks": ""
           },
           "baxis": {
            "gridcolor": "white",
            "linecolor": "white",
            "ticks": ""
           },
           "bgcolor": "#E5ECF6",
           "caxis": {
            "gridcolor": "white",
            "linecolor": "white",
            "ticks": ""
           }
          },
          "title": {
           "x": 0.05
          },
          "xaxis": {
           "automargin": true,
           "gridcolor": "white",
           "linecolor": "white",
           "ticks": "",
           "title": {
            "standoff": 15
           },
           "zerolinecolor": "white",
           "zerolinewidth": 2
          },
          "yaxis": {
           "automargin": true,
           "gridcolor": "white",
           "linecolor": "white",
           "ticks": "",
           "title": {
            "standoff": 15
           },
           "zerolinecolor": "white",
           "zerolinewidth": 2
          }
         }
        },
        "xaxis": {
         "anchor": "y",
         "domain": [
          0,
          1
         ],
         "title": {
          "text": "Form of TB"
         }
        },
        "yaxis": {
         "anchor": "x",
         "domain": [
          0,
          1
         ],
         "title": {
          "text": "count"
         }
        }
       }
      }
     },
     "metadata": {},
     "output_type": "display_data"
    }
   ],
   "source": [
    "import plotly.express as px\n",
    "px.histogram(india_tb, x =\"Form of TB\" , color = \"Sex\")"
   ]
  },
  {
   "cell_type": "code",
   "execution_count": null,
   "id": "3b3d4d5b-7a7a-473f-acbe-d7e1f38c98f4",
   "metadata": {
    "vscode": {
     "languageId": "quarto"
    }
   },
   "outputs": [
    {
     "data": {
      "application/vnd.plotly.v1+json": {
       "config": {
        "plotlyServerURL": "https://plot.ly"
       },
       "data": [
        {
         "bingroup": "x",
         "hovertemplate": "Age=%{x}<br>count=%{y}<extra></extra>",
         "legendgroup": "",
         "marker": {
          "color": "#636efa",
          "pattern": {
           "shape": ""
          }
         },
         "name": "",
         "orientation": "v",
         "showlegend": false,
         "type": "histogram",
         "x": {
          "bdata": "OUItGzY8HBUiMCguHiYbIzQ0Jh4kQRkzQTcWIyA3NyY3NxkqMjYwNxs5FB40KCZGGyMYLUk8HioYGBwoFCYWLRoVJzciGCYtNyMTPBItEyckJRkkMj4oMjQ5Q0FLPEEoHhpBLRgmHzlDKkAqJCgwLCUtNyoTLTwtHig6PBQjMhk3KjIeKjcvIywvRh5DFjAdPzQmKCwzExwqFhcXPi8nNz4iLS0eHjU6HkQ8FTY8NzImLTc8PDImMRMjPEE3PBcTKDcmPDctLTAcPBk4IyEhISovLykyFRMeKEE8Pjg8KzlBGiMnJj8jKDAtGUEyHygyNihBJkEeLx4jNjcYIy0wMj8lIC08KCspKDdBPDYUNy8tGTdFHhMtLSk+MjgaNygfKBVGHi1BMD9BK0Y3NyY7HiYwJhoUNDA8IiQeQEFBPi0jFDQyOS8ePzktMzk3HDBDIxkyF0EUEkVBLCM3LSA+PDwZP0giQUFDLEcuNygxLC00KxkqNTwqPDcjNzAyKik8RTxBJjc7MTkVMTYgKjkxHkNBEyU4ORUbHh0UPEBDOjw3MkQtHigkIy8pMTAfND83OSY6MzI9QSMnNCUmNzwiJkEXKDgVOSEXMjU8M0ItIzEXRBwoJDcmFRI8NDo6PDIyGiYZOyhDJikyNzBBOUYlMy86LTw7QTstGzY8LSElGRVBQSw2Ny0mIzEwFBZDKB4VHiY0NT8UQSAoGjgtQjxFKyg+RDw3OC1BNCZFQTMtJjA3GTI8PDk5Kxg0MBQvHDwcMDwyJjc1OjQ8IhM8Nyc3GUFBGSg8P0EoMi1BIz40LTszLS9LQi8oJjw2ODE8QS83ODA8MDE+FTo3ODsjLUQoPygtLTIUPEE8G0EyNTcvOSgyQzxCNzxLHS1YJjw5Q0s3PDI8LlAvKhJGJjA7QTkzQTw6KC8aPigYJiFCJDlBKEEsPkEyQScUHi0lI0E8FygaGEIuL0FBQTIgLShGODw7Ly03Ojc3OkYjKDouSRtBFxgiNxYUHEA8QDw3MTU8FRQoGyUoKC0dK0EyRjc3QUMwN0wqTBZBLRgjNS4tIzkTKBI8MkEmFj4xMjxEGDA2Mj0nLCU9Mj01RBkgNy0oFDcULDw3PyMxGxgtIDwsNTEUPjwtMDRAJjU8Oj43GSsjOSQXKTQnLSQbIy83Iz8sPD9BPA==",
          "dtype": "i1"
         },
         "xaxis": "x",
         "yaxis": "y"
        }
       ],
       "layout": {
        "barmode": "relative",
        "legend": {
         "tracegroupgap": 0
        },
        "margin": {
         "t": 60
        },
        "template": {
         "data": {
          "bar": [
           {
            "error_x": {
             "color": "#2a3f5f"
            },
            "error_y": {
             "color": "#2a3f5f"
            },
            "marker": {
             "line": {
              "color": "#E5ECF6",
              "width": 0.5
             },
             "pattern": {
              "fillmode": "overlay",
              "size": 10,
              "solidity": 0.2
             }
            },
            "type": "bar"
           }
          ],
          "barpolar": [
           {
            "marker": {
             "line": {
              "color": "#E5ECF6",
              "width": 0.5
             },
             "pattern": {
              "fillmode": "overlay",
              "size": 10,
              "solidity": 0.2
             }
            },
            "type": "barpolar"
           }
          ],
          "carpet": [
           {
            "aaxis": {
             "endlinecolor": "#2a3f5f",
             "gridcolor": "white",
             "linecolor": "white",
             "minorgridcolor": "white",
             "startlinecolor": "#2a3f5f"
            },
            "baxis": {
             "endlinecolor": "#2a3f5f",
             "gridcolor": "white",
             "linecolor": "white",
             "minorgridcolor": "white",
             "startlinecolor": "#2a3f5f"
            },
            "type": "carpet"
           }
          ],
          "choropleth": [
           {
            "colorbar": {
             "outlinewidth": 0,
             "ticks": ""
            },
            "type": "choropleth"
           }
          ],
          "contour": [
           {
            "colorbar": {
             "outlinewidth": 0,
             "ticks": ""
            },
            "colorscale": [
             [
              0,
              "#0d0887"
             ],
             [
              0.1111111111111111,
              "#46039f"
             ],
             [
              0.2222222222222222,
              "#7201a8"
             ],
             [
              0.3333333333333333,
              "#9c179e"
             ],
             [
              0.4444444444444444,
              "#bd3786"
             ],
             [
              0.5555555555555556,
              "#d8576b"
             ],
             [
              0.6666666666666666,
              "#ed7953"
             ],
             [
              0.7777777777777778,
              "#fb9f3a"
             ],
             [
              0.8888888888888888,
              "#fdca26"
             ],
             [
              1,
              "#f0f921"
             ]
            ],
            "type": "contour"
           }
          ],
          "contourcarpet": [
           {
            "colorbar": {
             "outlinewidth": 0,
             "ticks": ""
            },
            "type": "contourcarpet"
           }
          ],
          "heatmap": [
           {
            "colorbar": {
             "outlinewidth": 0,
             "ticks": ""
            },
            "colorscale": [
             [
              0,
              "#0d0887"
             ],
             [
              0.1111111111111111,
              "#46039f"
             ],
             [
              0.2222222222222222,
              "#7201a8"
             ],
             [
              0.3333333333333333,
              "#9c179e"
             ],
             [
              0.4444444444444444,
              "#bd3786"
             ],
             [
              0.5555555555555556,
              "#d8576b"
             ],
             [
              0.6666666666666666,
              "#ed7953"
             ],
             [
              0.7777777777777778,
              "#fb9f3a"
             ],
             [
              0.8888888888888888,
              "#fdca26"
             ],
             [
              1,
              "#f0f921"
             ]
            ],
            "type": "heatmap"
           }
          ],
          "histogram": [
           {
            "marker": {
             "pattern": {
              "fillmode": "overlay",
              "size": 10,
              "solidity": 0.2
             }
            },
            "type": "histogram"
           }
          ],
          "histogram2d": [
           {
            "colorbar": {
             "outlinewidth": 0,
             "ticks": ""
            },
            "colorscale": [
             [
              0,
              "#0d0887"
             ],
             [
              0.1111111111111111,
              "#46039f"
             ],
             [
              0.2222222222222222,
              "#7201a8"
             ],
             [
              0.3333333333333333,
              "#9c179e"
             ],
             [
              0.4444444444444444,
              "#bd3786"
             ],
             [
              0.5555555555555556,
              "#d8576b"
             ],
             [
              0.6666666666666666,
              "#ed7953"
             ],
             [
              0.7777777777777778,
              "#fb9f3a"
             ],
             [
              0.8888888888888888,
              "#fdca26"
             ],
             [
              1,
              "#f0f921"
             ]
            ],
            "type": "histogram2d"
           }
          ],
          "histogram2dcontour": [
           {
            "colorbar": {
             "outlinewidth": 0,
             "ticks": ""
            },
            "colorscale": [
             [
              0,
              "#0d0887"
             ],
             [
              0.1111111111111111,
              "#46039f"
             ],
             [
              0.2222222222222222,
              "#7201a8"
             ],
             [
              0.3333333333333333,
              "#9c179e"
             ],
             [
              0.4444444444444444,
              "#bd3786"
             ],
             [
              0.5555555555555556,
              "#d8576b"
             ],
             [
              0.6666666666666666,
              "#ed7953"
             ],
             [
              0.7777777777777778,
              "#fb9f3a"
             ],
             [
              0.8888888888888888,
              "#fdca26"
             ],
             [
              1,
              "#f0f921"
             ]
            ],
            "type": "histogram2dcontour"
           }
          ],
          "mesh3d": [
           {
            "colorbar": {
             "outlinewidth": 0,
             "ticks": ""
            },
            "type": "mesh3d"
           }
          ],
          "parcoords": [
           {
            "line": {
             "colorbar": {
              "outlinewidth": 0,
              "ticks": ""
             }
            },
            "type": "parcoords"
           }
          ],
          "pie": [
           {
            "automargin": true,
            "type": "pie"
           }
          ],
          "scatter": [
           {
            "fillpattern": {
             "fillmode": "overlay",
             "size": 10,
             "solidity": 0.2
            },
            "type": "scatter"
           }
          ],
          "scatter3d": [
           {
            "line": {
             "colorbar": {
              "outlinewidth": 0,
              "ticks": ""
             }
            },
            "marker": {
             "colorbar": {
              "outlinewidth": 0,
              "ticks": ""
             }
            },
            "type": "scatter3d"
           }
          ],
          "scattercarpet": [
           {
            "marker": {
             "colorbar": {
              "outlinewidth": 0,
              "ticks": ""
             }
            },
            "type": "scattercarpet"
           }
          ],
          "scattergeo": [
           {
            "marker": {
             "colorbar": {
              "outlinewidth": 0,
              "ticks": ""
             }
            },
            "type": "scattergeo"
           }
          ],
          "scattergl": [
           {
            "marker": {
             "colorbar": {
              "outlinewidth": 0,
              "ticks": ""
             }
            },
            "type": "scattergl"
           }
          ],
          "scattermap": [
           {
            "marker": {
             "colorbar": {
              "outlinewidth": 0,
              "ticks": ""
             }
            },
            "type": "scattermap"
           }
          ],
          "scattermapbox": [
           {
            "marker": {
             "colorbar": {
              "outlinewidth": 0,
              "ticks": ""
             }
            },
            "type": "scattermapbox"
           }
          ],
          "scatterpolar": [
           {
            "marker": {
             "colorbar": {
              "outlinewidth": 0,
              "ticks": ""
             }
            },
            "type": "scatterpolar"
           }
          ],
          "scatterpolargl": [
           {
            "marker": {
             "colorbar": {
              "outlinewidth": 0,
              "ticks": ""
             }
            },
            "type": "scatterpolargl"
           }
          ],
          "scatterternary": [
           {
            "marker": {
             "colorbar": {
              "outlinewidth": 0,
              "ticks": ""
             }
            },
            "type": "scatterternary"
           }
          ],
          "surface": [
           {
            "colorbar": {
             "outlinewidth": 0,
             "ticks": ""
            },
            "colorscale": [
             [
              0,
              "#0d0887"
             ],
             [
              0.1111111111111111,
              "#46039f"
             ],
             [
              0.2222222222222222,
              "#7201a8"
             ],
             [
              0.3333333333333333,
              "#9c179e"
             ],
             [
              0.4444444444444444,
              "#bd3786"
             ],
             [
              0.5555555555555556,
              "#d8576b"
             ],
             [
              0.6666666666666666,
              "#ed7953"
             ],
             [
              0.7777777777777778,
              "#fb9f3a"
             ],
             [
              0.8888888888888888,
              "#fdca26"
             ],
             [
              1,
              "#f0f921"
             ]
            ],
            "type": "surface"
           }
          ],
          "table": [
           {
            "cells": {
             "fill": {
              "color": "#EBF0F8"
             },
             "line": {
              "color": "white"
             }
            },
            "header": {
             "fill": {
              "color": "#C8D4E3"
             },
             "line": {
              "color": "white"
             }
            },
            "type": "table"
           }
          ]
         },
         "layout": {
          "annotationdefaults": {
           "arrowcolor": "#2a3f5f",
           "arrowhead": 0,
           "arrowwidth": 1
          },
          "autotypenumbers": "strict",
          "coloraxis": {
           "colorbar": {
            "outlinewidth": 0,
            "ticks": ""
           }
          },
          "colorscale": {
           "diverging": [
            [
             0,
             "#8e0152"
            ],
            [
             0.1,
             "#c51b7d"
            ],
            [
             0.2,
             "#de77ae"
            ],
            [
             0.3,
             "#f1b6da"
            ],
            [
             0.4,
             "#fde0ef"
            ],
            [
             0.5,
             "#f7f7f7"
            ],
            [
             0.6,
             "#e6f5d0"
            ],
            [
             0.7,
             "#b8e186"
            ],
            [
             0.8,
             "#7fbc41"
            ],
            [
             0.9,
             "#4d9221"
            ],
            [
             1,
             "#276419"
            ]
           ],
           "sequential": [
            [
             0,
             "#0d0887"
            ],
            [
             0.1111111111111111,
             "#46039f"
            ],
            [
             0.2222222222222222,
             "#7201a8"
            ],
            [
             0.3333333333333333,
             "#9c179e"
            ],
            [
             0.4444444444444444,
             "#bd3786"
            ],
            [
             0.5555555555555556,
             "#d8576b"
            ],
            [
             0.6666666666666666,
             "#ed7953"
            ],
            [
             0.7777777777777778,
             "#fb9f3a"
            ],
            [
             0.8888888888888888,
             "#fdca26"
            ],
            [
             1,
             "#f0f921"
            ]
           ],
           "sequentialminus": [
            [
             0,
             "#0d0887"
            ],
            [
             0.1111111111111111,
             "#46039f"
            ],
            [
             0.2222222222222222,
             "#7201a8"
            ],
            [
             0.3333333333333333,
             "#9c179e"
            ],
            [
             0.4444444444444444,
             "#bd3786"
            ],
            [
             0.5555555555555556,
             "#d8576b"
            ],
            [
             0.6666666666666666,
             "#ed7953"
            ],
            [
             0.7777777777777778,
             "#fb9f3a"
            ],
            [
             0.8888888888888888,
             "#fdca26"
            ],
            [
             1,
             "#f0f921"
            ]
           ]
          },
          "colorway": [
           "#636efa",
           "#EF553B",
           "#00cc96",
           "#ab63fa",
           "#FFA15A",
           "#19d3f3",
           "#FF6692",
           "#B6E880",
           "#FF97FF",
           "#FECB52"
          ],
          "font": {
           "color": "#2a3f5f"
          },
          "geo": {
           "bgcolor": "white",
           "lakecolor": "white",
           "landcolor": "#E5ECF6",
           "showlakes": true,
           "showland": true,
           "subunitcolor": "white"
          },
          "hoverlabel": {
           "align": "left"
          },
          "hovermode": "closest",
          "mapbox": {
           "style": "light"
          },
          "paper_bgcolor": "white",
          "plot_bgcolor": "#E5ECF6",
          "polar": {
           "angularaxis": {
            "gridcolor": "white",
            "linecolor": "white",
            "ticks": ""
           },
           "bgcolor": "#E5ECF6",
           "radialaxis": {
            "gridcolor": "white",
            "linecolor": "white",
            "ticks": ""
           }
          },
          "scene": {
           "xaxis": {
            "backgroundcolor": "#E5ECF6",
            "gridcolor": "white",
            "gridwidth": 2,
            "linecolor": "white",
            "showbackground": true,
            "ticks": "",
            "zerolinecolor": "white"
           },
           "yaxis": {
            "backgroundcolor": "#E5ECF6",
            "gridcolor": "white",
            "gridwidth": 2,
            "linecolor": "white",
            "showbackground": true,
            "ticks": "",
            "zerolinecolor": "white"
           },
           "zaxis": {
            "backgroundcolor": "#E5ECF6",
            "gridcolor": "white",
            "gridwidth": 2,
            "linecolor": "white",
            "showbackground": true,
            "ticks": "",
            "zerolinecolor": "white"
           }
          },
          "shapedefaults": {
           "line": {
            "color": "#2a3f5f"
           }
          },
          "ternary": {
           "aaxis": {
            "gridcolor": "white",
            "linecolor": "white",
            "ticks": ""
           },
           "baxis": {
            "gridcolor": "white",
            "linecolor": "white",
            "ticks": ""
           },
           "bgcolor": "#E5ECF6",
           "caxis": {
            "gridcolor": "white",
            "linecolor": "white",
            "ticks": ""
           }
          },
          "title": {
           "x": 0.05
          },
          "xaxis": {
           "automargin": true,
           "gridcolor": "white",
           "linecolor": "white",
           "ticks": "",
           "title": {
            "standoff": 15
           },
           "zerolinecolor": "white",
           "zerolinewidth": 2
          },
          "yaxis": {
           "automargin": true,
           "gridcolor": "white",
           "linecolor": "white",
           "ticks": "",
           "title": {
            "standoff": 15
           },
           "zerolinecolor": "white",
           "zerolinewidth": 2
          }
         }
        },
        "xaxis": {
         "anchor": "y",
         "domain": [
          0,
          1
         ],
         "title": {
          "text": "Age"
         }
        },
        "yaxis": {
         "anchor": "x",
         "domain": [
          0,
          1
         ],
         "title": {
          "text": "count"
         }
        }
       }
      }
     },
     "metadata": {},
     "output_type": "display_data"
    }
   ],
   "source": [
    "px.histogram(india_tb,x=\"Age\")"
   ]
  },
  {
   "cell_type": "code",
   "execution_count": null,
   "id": "5d38c2e5-39b7-43d9-ad07-d59989a25f41",
   "metadata": {
    "vscode": {
     "languageId": "quarto"
    }
   },
   "outputs": [
    {
     "data": {
      "text/html": [
       "<div>\n",
       "<style scoped>\n",
       "    .dataframe tbody tr th:only-of-type {\n",
       "        vertical-align: middle;\n",
       "    }\n",
       "\n",
       "    .dataframe tbody tr th {\n",
       "        vertical-align: top;\n",
       "    }\n",
       "\n",
       "    .dataframe thead th {\n",
       "        text-align: right;\n",
       "    }\n",
       "</style>\n",
       "<table border=\"1\" class=\"dataframe\">\n",
       "  <thead>\n",
       "    <tr style=\"text-align: right;\">\n",
       "      <th></th>\n",
       "      <th>id</th>\n",
       "      <th>Sex</th>\n",
       "      <th>Age</th>\n",
       "      <th>Education</th>\n",
       "      <th>Employment</th>\n",
       "      <th>Alcohol</th>\n",
       "      <th>Smoking</th>\n",
       "      <th>WtinKgs</th>\n",
       "      <th>HtinCms</th>\n",
       "      <th>bmi</th>\n",
       "      <th>...</th>\n",
       "      <th>Form of TB</th>\n",
       "      <th>Chext Xray</th>\n",
       "      <th>first visit location</th>\n",
       "      <th>first visit cost</th>\n",
       "      <th>second visit location</th>\n",
       "      <th>second visit cost</th>\n",
       "      <th>third visit location</th>\n",
       "      <th>third visit cost</th>\n",
       "      <th>Health sys delay (in days)</th>\n",
       "      <th>Treatment initiation delay (in days)</th>\n",
       "    </tr>\n",
       "  </thead>\n",
       "  <tbody>\n",
       "    <tr>\n",
       "      <th>0</th>\n",
       "      <td>100202</td>\n",
       "      <td>Male</td>\n",
       "      <td>57</td>\n",
       "      <td>Middle</td>\n",
       "      <td>Working</td>\n",
       "      <td>Yes</td>\n",
       "      <td>Yes</td>\n",
       "      <td>58.0</td>\n",
       "      <td>165.0</td>\n",
       "      <td>21.3</td>\n",
       "      <td>...</td>\n",
       "      <td>Ini smear +</td>\n",
       "      <td>NaN</td>\n",
       "      <td>GH</td>\n",
       "      <td>0</td>\n",
       "      <td>NaN</td>\n",
       "      <td>0</td>\n",
       "      <td>NaN</td>\n",
       "      <td>0</td>\n",
       "      <td>15.0</td>\n",
       "      <td>10.0</td>\n",
       "    </tr>\n",
       "    <tr>\n",
       "      <th>1</th>\n",
       "      <td>100396</td>\n",
       "      <td>Female</td>\n",
       "      <td>66</td>\n",
       "      <td>No Education</td>\n",
       "      <td>Non - Working</td>\n",
       "      <td>No</td>\n",
       "      <td>No</td>\n",
       "      <td>32.0</td>\n",
       "      <td>163.0</td>\n",
       "      <td>12.0</td>\n",
       "      <td>...</td>\n",
       "      <td>Ini smear -</td>\n",
       "      <td>Positive</td>\n",
       "      <td>Pvt. docto</td>\n",
       "      <td>1500</td>\n",
       "      <td>Pvt. clini</td>\n",
       "      <td>1000</td>\n",
       "      <td>Pvt. hospi</td>\n",
       "      <td>2500</td>\n",
       "      <td>60.0</td>\n",
       "      <td>4.0</td>\n",
       "    </tr>\n",
       "    <tr>\n",
       "      <th>2</th>\n",
       "      <td>100590</td>\n",
       "      <td>Female</td>\n",
       "      <td>45</td>\n",
       "      <td>Missing</td>\n",
       "      <td>Non - Working</td>\n",
       "      <td>No</td>\n",
       "      <td>No</td>\n",
       "      <td>46.0</td>\n",
       "      <td>150.0</td>\n",
       "      <td>20.4</td>\n",
       "      <td>...</td>\n",
       "      <td>Ini smear -</td>\n",
       "      <td>Positive</td>\n",
       "      <td>Pvt. docto</td>\n",
       "      <td>2000</td>\n",
       "      <td>Pvt. docto</td>\n",
       "      <td>3000</td>\n",
       "      <td>PHC</td>\n",
       "      <td>0</td>\n",
       "      <td>43.0</td>\n",
       "      <td>21.0</td>\n",
       "    </tr>\n",
       "    <tr>\n",
       "      <th>3</th>\n",
       "      <td>100687</td>\n",
       "      <td>Male</td>\n",
       "      <td>27</td>\n",
       "      <td>Middle</td>\n",
       "      <td>Non - Working</td>\n",
       "      <td>No</td>\n",
       "      <td>No</td>\n",
       "      <td>51.0</td>\n",
       "      <td>165.0</td>\n",
       "      <td>18.7</td>\n",
       "      <td>...</td>\n",
       "      <td>Ini smear +</td>\n",
       "      <td>NaN</td>\n",
       "      <td>Pvt. hospi</td>\n",
       "      <td>20000</td>\n",
       "      <td>Pvt. hospi</td>\n",
       "      <td>1500</td>\n",
       "      <td>PHC</td>\n",
       "      <td>0</td>\n",
       "      <td>35.0</td>\n",
       "      <td>5.0</td>\n",
       "    </tr>\n",
       "    <tr>\n",
       "      <th>4</th>\n",
       "      <td>100784</td>\n",
       "      <td>Male</td>\n",
       "      <td>54</td>\n",
       "      <td>Middle</td>\n",
       "      <td>Non - Working</td>\n",
       "      <td>No</td>\n",
       "      <td>No</td>\n",
       "      <td>39.0</td>\n",
       "      <td>160.0</td>\n",
       "      <td>15.2</td>\n",
       "      <td>...</td>\n",
       "      <td>Ini smear +</td>\n",
       "      <td>Positive</td>\n",
       "      <td>Pvt. docto</td>\n",
       "      <td>1000</td>\n",
       "      <td>GH</td>\n",
       "      <td>0</td>\n",
       "      <td>NaN</td>\n",
       "      <td>0</td>\n",
       "      <td>14.0</td>\n",
       "      <td>6.0</td>\n",
       "    </tr>\n",
       "    <tr>\n",
       "      <th>...</th>\n",
       "      <td>...</td>\n",
       "      <td>...</td>\n",
       "      <td>...</td>\n",
       "      <td>...</td>\n",
       "      <td>...</td>\n",
       "      <td>...</td>\n",
       "      <td>...</td>\n",
       "      <td>...</td>\n",
       "      <td>...</td>\n",
       "      <td>...</td>\n",
       "      <td>...</td>\n",
       "      <td>...</td>\n",
       "      <td>...</td>\n",
       "      <td>...</td>\n",
       "      <td>...</td>\n",
       "      <td>...</td>\n",
       "      <td>...</td>\n",
       "      <td>...</td>\n",
       "      <td>...</td>\n",
       "      <td>...</td>\n",
       "      <td>...</td>\n",
       "    </tr>\n",
       "    <tr>\n",
       "      <th>875</th>\n",
       "      <td>1604672</td>\n",
       "      <td>Male</td>\n",
       "      <td>44</td>\n",
       "      <td>Middle</td>\n",
       "      <td>Working</td>\n",
       "      <td>Yes</td>\n",
       "      <td>Yes</td>\n",
       "      <td>42.7</td>\n",
       "      <td>175.0</td>\n",
       "      <td>13.9</td>\n",
       "      <td>...</td>\n",
       "      <td>Ini smear +</td>\n",
       "      <td>NaN</td>\n",
       "      <td>Pvt. docto</td>\n",
       "      <td>9000</td>\n",
       "      <td>Pvt. docto</td>\n",
       "      <td>800</td>\n",
       "      <td>GH</td>\n",
       "      <td>0</td>\n",
       "      <td>14.0</td>\n",
       "      <td>11.0</td>\n",
       "    </tr>\n",
       "    <tr>\n",
       "      <th>876</th>\n",
       "      <td>1604769</td>\n",
       "      <td>Male</td>\n",
       "      <td>60</td>\n",
       "      <td>Middle</td>\n",
       "      <td>Working</td>\n",
       "      <td>No</td>\n",
       "      <td>No</td>\n",
       "      <td>64.2</td>\n",
       "      <td>175.0</td>\n",
       "      <td>21.0</td>\n",
       "      <td>...</td>\n",
       "      <td>Ini smear +</td>\n",
       "      <td>Positive</td>\n",
       "      <td>Pvt. clini</td>\n",
       "      <td>500</td>\n",
       "      <td>Tambram Sanatorium</td>\n",
       "      <td>0</td>\n",
       "      <td>NaN</td>\n",
       "      <td>0</td>\n",
       "      <td>14.0</td>\n",
       "      <td>10.0</td>\n",
       "    </tr>\n",
       "    <tr>\n",
       "      <th>877</th>\n",
       "      <td>1604866</td>\n",
       "      <td>Male</td>\n",
       "      <td>63</td>\n",
       "      <td>Middle</td>\n",
       "      <td>Working</td>\n",
       "      <td>No</td>\n",
       "      <td>Yes</td>\n",
       "      <td>38.5</td>\n",
       "      <td>160.0</td>\n",
       "      <td>15.0</td>\n",
       "      <td>...</td>\n",
       "      <td>Ini smear +</td>\n",
       "      <td>NaN</td>\n",
       "      <td>Pvt. docto</td>\n",
       "      <td>1000</td>\n",
       "      <td>Tambram Sanatorium</td>\n",
       "      <td>0</td>\n",
       "      <td>NaN</td>\n",
       "      <td>0</td>\n",
       "      <td>180.0</td>\n",
       "      <td>22.0</td>\n",
       "    </tr>\n",
       "    <tr>\n",
       "      <th>878</th>\n",
       "      <td>1604963</td>\n",
       "      <td>Male</td>\n",
       "      <td>65</td>\n",
       "      <td>No Education</td>\n",
       "      <td>Working</td>\n",
       "      <td>No</td>\n",
       "      <td>No</td>\n",
       "      <td>37.0</td>\n",
       "      <td>167.0</td>\n",
       "      <td>13.3</td>\n",
       "      <td>...</td>\n",
       "      <td>Ini smear +</td>\n",
       "      <td>NaN</td>\n",
       "      <td>PHC</td>\n",
       "      <td>0</td>\n",
       "      <td>Tambram Sanatorium</td>\n",
       "      <td>0</td>\n",
       "      <td>NaN</td>\n",
       "      <td>0</td>\n",
       "      <td>150.0</td>\n",
       "      <td>20.0</td>\n",
       "    </tr>\n",
       "    <tr>\n",
       "      <th>879</th>\n",
       "      <td>1605060</td>\n",
       "      <td>Male</td>\n",
       "      <td>60</td>\n",
       "      <td>Middle</td>\n",
       "      <td>Working</td>\n",
       "      <td>No</td>\n",
       "      <td>No</td>\n",
       "      <td>46.8</td>\n",
       "      <td>155.5</td>\n",
       "      <td>19.4</td>\n",
       "      <td>...</td>\n",
       "      <td>Missing</td>\n",
       "      <td>Positive</td>\n",
       "      <td>Pvt. hospi</td>\n",
       "      <td>300</td>\n",
       "      <td>Pvt. clini</td>\n",
       "      <td>3200</td>\n",
       "      <td>GH</td>\n",
       "      <td>0</td>\n",
       "      <td>90.0</td>\n",
       "      <td>2.0</td>\n",
       "    </tr>\n",
       "  </tbody>\n",
       "</table>\n",
       "<p>880 rows × 21 columns</p>\n",
       "</div>"
      ],
      "text/plain": [
       "          id     Sex  Age     Education     Employment Alcohol Smoking  \\\n",
       "0     100202    Male   57        Middle        Working     Yes     Yes   \n",
       "1     100396  Female   66  No Education  Non - Working      No      No   \n",
       "2     100590  Female   45       Missing  Non - Working      No      No   \n",
       "3     100687    Male   27        Middle  Non - Working      No      No   \n",
       "4     100784    Male   54        Middle  Non - Working      No      No   \n",
       "..       ...     ...  ...           ...            ...     ...     ...   \n",
       "875  1604672    Male   44        Middle        Working     Yes     Yes   \n",
       "876  1604769    Male   60        Middle        Working      No      No   \n",
       "877  1604866    Male   63        Middle        Working      No     Yes   \n",
       "878  1604963    Male   65  No Education        Working      No      No   \n",
       "879  1605060    Male   60        Middle        Working      No      No   \n",
       "\n",
       "     WtinKgs  HtinCms   bmi  ...   Form of TB Chext Xray first visit location  \\\n",
       "0       58.0    165.0  21.3  ...  Ini smear +        NaN                   GH   \n",
       "1       32.0    163.0  12.0  ...  Ini smear -   Positive           Pvt. docto   \n",
       "2       46.0    150.0  20.4  ...  Ini smear -   Positive           Pvt. docto   \n",
       "3       51.0    165.0  18.7  ...  Ini smear +        NaN           Pvt. hospi   \n",
       "4       39.0    160.0  15.2  ...  Ini smear +   Positive           Pvt. docto   \n",
       "..       ...      ...   ...  ...          ...        ...                  ...   \n",
       "875     42.7    175.0  13.9  ...  Ini smear +        NaN           Pvt. docto   \n",
       "876     64.2    175.0  21.0  ...  Ini smear +   Positive           Pvt. clini   \n",
       "877     38.5    160.0  15.0  ...  Ini smear +        NaN           Pvt. docto   \n",
       "878     37.0    167.0  13.3  ...  Ini smear +        NaN                  PHC   \n",
       "879     46.8    155.5  19.4  ...      Missing   Positive           Pvt. hospi   \n",
       "\n",
       "    first visit cost  second visit location second visit cost  \\\n",
       "0                  0                    NaN                 0   \n",
       "1               1500             Pvt. clini              1000   \n",
       "2               2000             Pvt. docto              3000   \n",
       "3              20000             Pvt. hospi              1500   \n",
       "4               1000                     GH                 0   \n",
       "..               ...                    ...               ...   \n",
       "875             9000             Pvt. docto               800   \n",
       "876              500     Tambram Sanatorium                 0   \n",
       "877             1000     Tambram Sanatorium                 0   \n",
       "878                0     Tambram Sanatorium                 0   \n",
       "879              300             Pvt. clini              3200   \n",
       "\n",
       "     third visit location third visit cost  Health sys delay (in days)  \\\n",
       "0                     NaN                0                        15.0   \n",
       "1              Pvt. hospi             2500                        60.0   \n",
       "2                     PHC                0                        43.0   \n",
       "3                     PHC                0                        35.0   \n",
       "4                     NaN                0                        14.0   \n",
       "..                    ...              ...                         ...   \n",
       "875                    GH                0                        14.0   \n",
       "876                   NaN                0                        14.0   \n",
       "877                   NaN                0                       180.0   \n",
       "878                   NaN                0                       150.0   \n",
       "879                    GH                0                        90.0   \n",
       "\n",
       "     Treatment initiation delay (in days)  \n",
       "0                                    10.0  \n",
       "1                                     4.0  \n",
       "2                                    21.0  \n",
       "3                                     5.0  \n",
       "4                                     6.0  \n",
       "..                                    ...  \n",
       "875                                  11.0  \n",
       "876                                  10.0  \n",
       "877                                  22.0  \n",
       "878                                  20.0  \n",
       "879                                   2.0  \n",
       "\n",
       "[880 rows x 21 columns]"
      ]
     },
     "execution_count": 7,
     "metadata": {},
     "output_type": "execute_result"
    }
   ],
   "source": [
    "import pandas as pd\n",
    "india_tb = pd.read_csv(\"india_tb_pathways_and_costs.csv\")\n",
    "from itables import show\n",
    "india_tb"
   ]
  },
  {
   "cell_type": "code",
   "execution_count": null,
   "id": "cb7dfd84-8531-4bf0-9178-282c39e272a5",
   "metadata": {
    "vscode": {
     "languageId": "quarto"
    }
   },
   "outputs": [
    {
     "data": {
      "application/vnd.plotly.v1+json": {
       "config": {
        "plotlyServerURL": "https://plot.ly"
       },
       "data": [
        {
         "bingroup": "x",
         "hovertemplate": "Sex=Male<br>Form of TB=%{x}<br>count=%{y}<extra></extra>",
         "legendgroup": "Male",
         "marker": {
          "color": "#636efa",
          "pattern": {
           "shape": ""
          }
         },
         "name": "Male",
         "orientation": "v",
         "showlegend": true,
         "type": "histogram",
         "x": [
          "Ini smear +",
          "Ini smear +",
          "Ini smear +",
          "Ini smear +",
          "Ini smear +",
          "Ini smear +",
          "Ini smear +",
          "Ini smear +",
          "Ini smear +",
          "Ini smear +",
          "Ini smear +",
          "Ini smear +",
          "Ini smear +",
          "Ini smear +",
          "Ini smear +",
          "Ini smear +",
          "Ini smear +",
          "Ini smear +",
          "Ini smear +",
          "Ini smear +",
          "Ini smear +",
          "Ini smear +",
          "Ini smear +",
          "Ini smear +",
          "Ini smear +",
          "Ini smear +",
          "Ini smear +",
          "Ini smear +",
          "Ini smear +",
          "Ini smear +",
          "Ini smear +",
          "Ini smear +",
          "Ini smear +",
          "Ini smear +",
          "Ini smear +",
          "Ini smear -",
          "Ini smear -",
          "Missing",
          "Ini smear -",
          "Ini smear -",
          "Ini smear +",
          "Ini smear +",
          "Ini smear +",
          "Ini smear +",
          "Ini smear -",
          "Ini smear -",
          "Ini smear +",
          "Ini smear +",
          "Ini smear +",
          "Ini smear -",
          "Ini smear +",
          "Ini smear +",
          "Ini smear +",
          "Ini smear +",
          "Ini smear +",
          "Ini smear +",
          "Ini smear -",
          "Ini smear +",
          "Ini smear -",
          "Ini smear +",
          "Ini smear +",
          "Ini smear +",
          "Ini smear +",
          "Ini smear +",
          "Ini smear +",
          "Ini smear +",
          "Ini smear +",
          "Ini smear +",
          "Ini smear +",
          "Ini smear +",
          "Ini smear -",
          "Ini smear +",
          "Ini smear -",
          "Ini smear +",
          "Ini smear +",
          "Ini smear +",
          "Ini smear +",
          "Ini smear +",
          "Ini smear +",
          "Ini smear +",
          "Ini smear +",
          "Ini smear +",
          "Ini smear +",
          "Ini smear +",
          "Ini smear +",
          "Ini smear -",
          "Ini smear -",
          "Ini smear +",
          "Ini smear +",
          "Ini smear -",
          "Ini smear -",
          "Ini smear +",
          "Ini smear +",
          "Ini smear +",
          "Ini smear +",
          "Ini smear +",
          "Ini smear +",
          "Ini smear +",
          "Ini smear +",
          "Ini smear -",
          "Ini smear +",
          "Ini smear +",
          "Ini smear +",
          "Ini smear +",
          "Ini smear -",
          "Ini smear -",
          "Ini smear +",
          "Ini smear -",
          "Ini smear +",
          "Ini smear +",
          "Ini smear +",
          "Ini smear +",
          "Ini smear +",
          "Ini smear +",
          "Ini smear +",
          "Ini smear +",
          "Ini smear +",
          "Ini smear +",
          "Ini smear -",
          "Ini smear +",
          "Ini smear -",
          "Ini smear +",
          "Ini smear +",
          "Ini smear -",
          "Ini smear +",
          "Ini smear +",
          "Ini smear +",
          "Ini smear +",
          "Ini smear +",
          "Ini smear +",
          "Ini smear +",
          "Ini smear +",
          "Ini smear -",
          "Ini smear +",
          "Ini smear +",
          "Ini smear -",
          "Ini smear +",
          "Ini smear +",
          "Ini smear +",
          "Ini smear +",
          "Ini smear +",
          "Ini smear -",
          "Ini smear +",
          "Ini smear +",
          "Ini smear -",
          "Ini smear +",
          "Ini smear +",
          "Ini smear +",
          "Ini smear +",
          "Ini smear +",
          "Ini smear -",
          "Ini smear -",
          "Ini smear -",
          "Ini smear +",
          "Ini smear +",
          "Ini smear +",
          "Ini smear -",
          "Ini smear -",
          "Ini smear +",
          "Ini smear +",
          "Ini smear +",
          "Ini smear -",
          "Ini smear +",
          "Ini smear +",
          "Ini smear +",
          "Ini smear +",
          "Ini smear -",
          "Ini smear +",
          "Ini smear +",
          "Ini smear +",
          "Ini smear -",
          "Ini smear +",
          "Ini smear +",
          "Ini smear +",
          "Ini smear +",
          "Ini smear +",
          "Ini smear +",
          "Ini smear +",
          "Ini smear +",
          "Ini smear +",
          "Ini smear -",
          "Ini smear +",
          "Ini smear +",
          "Ini smear -",
          "Missing",
          "Ini smear +",
          "Ini smear +",
          "Ini smear +",
          "Ini smear +",
          "Ini smear -",
          "Ini smear +",
          "Ini smear +",
          "Ini smear +",
          "Ini smear +",
          "Ini smear +",
          "Ini smear -",
          "Ini smear +",
          "Ini smear +",
          "Ini smear +",
          "Ini smear +",
          "Ini smear +",
          "Ini smear -",
          "Ini smear -",
          "Ini smear +",
          "Ini smear +",
          "Ini smear +",
          "Ini smear +",
          "Ini smear +",
          "Ini smear +",
          "Missing",
          "Ini smear +",
          "Ini smear +",
          "Ini smear +",
          "Ini smear +",
          "Ini smear +",
          "Ini smear +",
          "Ini smear +",
          "Ini smear +",
          "Ini smear +",
          "Ini smear +",
          "Ini smear +",
          "Ini smear +",
          "Ini smear +",
          "Ini smear +",
          "Ini smear +",
          "Ini smear +",
          "Ini smear +",
          "Ini smear -",
          "Ini smear +",
          "Ini smear +",
          "Ini smear +",
          "Ini smear +",
          "Ini smear +",
          "Ini smear +",
          "Ini smear +",
          "Ini smear +",
          "Ini smear +",
          "Ini smear -",
          "Ini smear +",
          "Ini smear -",
          "Ini smear +",
          "Ini smear -",
          "Ini smear -",
          "Ini smear +",
          "Ini smear +",
          "Missing",
          "Ini smear -",
          "Ini smear +",
          "Ini smear +",
          "Ini smear +",
          "Ini smear +",
          "Ini smear +",
          "Ini smear +",
          "Ini smear +",
          "Ini smear +",
          "Ini smear +",
          "Ini smear -",
          "Ini smear +",
          "Ini smear +",
          "Ini smear +",
          "Ini smear +",
          "Ini smear -",
          "Ini smear +",
          "Ini smear +",
          "Ini smear +",
          "Ini smear +",
          "Ini smear +",
          "Ini smear +",
          "Ini smear +",
          "Ini smear +",
          "Ini smear +",
          "Ini smear -",
          "Ini smear +",
          "Ini smear +",
          "Ini smear -",
          "Ini smear +",
          "Ini smear +",
          "Ini smear +",
          "Ini smear +",
          "Ini smear +",
          "Ini smear +",
          "Ini smear +",
          "Ini smear -",
          "Ini smear +",
          "Missing",
          "Ini smear +",
          "Ini smear -",
          "Ini smear -",
          "Ini smear +",
          "Ini smear +",
          "Ini smear +",
          "Ini smear -",
          "Ini smear +",
          "Ini smear +",
          "Ini smear -",
          "Ini smear +",
          "Ini smear +",
          "Ini smear +",
          "Ini smear +",
          "Ini smear -",
          "Ini smear -",
          "Ini smear +",
          "Ini smear +",
          "Ini smear -",
          "Ini smear +",
          "Ini smear +",
          "Ini smear +",
          "Ini smear +",
          "Ini smear +",
          "Ini smear +",
          "Ini smear +",
          "Ini smear +",
          "Ini smear +",
          "Ini smear +",
          "Ini smear +",
          "Ini smear +",
          "Ini smear +",
          "Ini smear +",
          "Ini smear +",
          "Ini smear +",
          "Ini smear +",
          "Ini smear +",
          "Ini smear +",
          "Missing",
          "Ini smear +",
          "Ini smear +",
          "Ini smear +",
          "Ini smear +",
          "Ini smear +",
          "Ini smear +",
          "Ini smear +",
          "Ini smear +",
          "Ini smear +",
          "Ini smear +",
          "Ini smear +",
          "Ini smear +",
          "Missing",
          "Ini smear +",
          "Ini smear +",
          "Ini smear +",
          "Ini smear -",
          "Ini smear +",
          "Ini smear -",
          "Ini smear +",
          "Ini smear +",
          "Ini smear +",
          "Ini smear +",
          "Ini smear +",
          "Ini smear +",
          "Ini smear +",
          "Ini smear +",
          "Ini smear +",
          "Ini smear +",
          "Ini smear +",
          "Ini smear -",
          "Ini smear +",
          "Ini smear +",
          "Ini smear -",
          "Ini smear +",
          "Ini smear +",
          "Ini smear +",
          "Ini smear +",
          "Ini smear +",
          "Ini smear -",
          "Ini smear +",
          "Ini smear +",
          "Ini smear +",
          "Ini smear +",
          "Ini smear +",
          "Ini smear +",
          "Ini smear +",
          "Ini smear +",
          "Ini smear +",
          "Ini smear +",
          "Ini smear +",
          "Ini smear +",
          "Ini smear +",
          "Ini smear +",
          "Ini smear +",
          "Ini smear +",
          "Ini smear +",
          "Ini smear +",
          "Ini smear +",
          "Ini smear -",
          "Ini smear +",
          "Ini smear +",
          "Ini smear +",
          "Ini smear +",
          "Ini smear -",
          "Ini smear +",
          "Ini smear +",
          "Ini smear -",
          "Ini smear +",
          "Ini smear +",
          "Ini smear +",
          "Ini smear +",
          "Ini smear +",
          "Ini smear +",
          "Ini smear +",
          "Ini smear +",
          "Ini smear +",
          "Ini smear -",
          "Ini smear +",
          "Ini smear +",
          "Ini smear +",
          "Missing",
          "Ini smear +",
          "Ini smear +",
          "Ini smear +",
          "Ini smear +",
          "Ini smear +",
          "Ini smear +",
          "Ini smear +",
          "Ini smear -",
          "Ini smear +",
          "Ini smear +",
          "Ini smear +",
          "Ini smear -",
          "Ini smear +",
          "Ini smear +",
          "Ini smear +",
          "Ini smear +",
          "Ini smear +",
          "Ini smear +",
          "Ini smear -",
          "Ini smear +",
          "Ini smear +",
          "Ini smear +",
          "Ini smear +",
          "Ini smear -",
          "Ini smear -",
          "Ini smear +",
          "Ini smear -",
          "Ini smear -",
          "Ini smear +",
          "Ini smear +",
          "Ini smear -",
          "Missing",
          "Ini smear +",
          "Ini smear +",
          "Ini smear -",
          "Ini smear +",
          "Ini smear +",
          "Ini smear +",
          "Ini smear +",
          "Ini smear +",
          "Ini smear -",
          "Ini smear +",
          "Ini smear +",
          "Ini smear +",
          "Ini smear -",
          "Ini smear +",
          "Ini smear +",
          "Ini smear +",
          "Ini smear -",
          "Ini smear +",
          "Ini smear +",
          "Ini smear +",
          "Ini smear +",
          "Ini smear -",
          "Missing",
          "Ini smear +",
          "Ini smear +",
          "Ini smear +",
          "Ini smear +",
          "Ini smear +",
          "Ini smear -",
          "Ini smear +",
          "Ini smear +",
          "Ini smear +",
          "Ini smear -",
          "Ini smear +",
          "Ini smear +",
          "Ini smear +",
          "Ini smear +",
          "Ini smear -",
          "Ini smear -",
          "Ini smear +",
          "Ini smear -",
          "Ini smear +",
          "Ini smear +",
          "Ini smear -",
          "Ini smear -",
          "Ini smear +",
          "Ini smear +",
          "Ini smear +",
          "Ini smear +",
          "Ini smear -",
          "Ini smear +",
          "Ini smear -",
          "Ini smear +",
          "Ini smear +",
          "Ini smear +",
          "Ini smear +",
          "Ini smear +",
          "Ini smear +",
          "Ini smear -",
          "Missing",
          "Ini smear +",
          "Ini smear +",
          "Ini smear +",
          "Ini smear -",
          "Ini smear +",
          "Ini smear -",
          "Ini smear +",
          "Ini smear -",
          "Ini smear +",
          "Ini smear +",
          "Ini smear +",
          "Ini smear +",
          "Ini smear +",
          "Ini smear -",
          "Ini smear +",
          "Ini smear +",
          "Ini smear -",
          "Ini smear -",
          "Ini smear +",
          "Ini smear +",
          "Ini smear -",
          "Ini smear +",
          "Ini smear +",
          "Ini smear +",
          "Ini smear +",
          "Ini smear +",
          "Ini smear -",
          "Ini smear -",
          "Ini smear +",
          "Ini smear +",
          "Ini smear +",
          "Ini smear +",
          "Ini smear +",
          "Ini smear -",
          "Ini smear -",
          "Ini smear +",
          "Ini smear +",
          "Ini smear +",
          "Ini smear +",
          "Ini smear +",
          "Ini smear +",
          "Ini smear +",
          "Ini smear +",
          "Ini smear -",
          "Ini smear +",
          "Ini smear +",
          "Ini smear +",
          "Ini smear +",
          "Ini smear +",
          "Ini smear -",
          "Ini smear -",
          "Ini smear +",
          "Ini smear +",
          "Ini smear +",
          "Ini smear -",
          "Ini smear -",
          "Ini smear +",
          "Ini smear +",
          "Ini smear +",
          "Missing",
          "Ini smear -",
          "Missing",
          "Ini smear +",
          "Ini smear +",
          "Ini smear -",
          "Ini smear +",
          "Ini smear -",
          "Ini smear -",
          "Ini smear -",
          "Ini smear +",
          "Ini smear +",
          "Ini smear +",
          "Ini smear +",
          "Ini smear +",
          "Ini smear +",
          "Ini smear +",
          "Ini smear +",
          "Ini smear +",
          "Ini smear +",
          "Ini smear +",
          "Ini smear +",
          "Ini smear +",
          "Ini smear +",
          "Ini smear -",
          "Ini smear +",
          "Ini smear -",
          "Ini smear +",
          "Ini smear +",
          "Ini smear +",
          "Ini smear +",
          "Ini smear -",
          "Ini smear +",
          "Ini smear -",
          "Ini smear +",
          "Ini smear +",
          "Ini smear +",
          "Ini smear +",
          "Ini smear +",
          "Ini smear +",
          "Ini smear +",
          "Ini smear +",
          "Ini smear +",
          "Ini smear +",
          "Ini smear +",
          "Ini smear -",
          "Ini smear +",
          "Ini smear +",
          "Ini smear +",
          "Ini smear +",
          "Ini smear +",
          "Ini smear +",
          "Ini smear +",
          "Ini smear +",
          "Ini smear +",
          "Ini smear -",
          "Ini smear -",
          "Ini smear +",
          "Ini smear -",
          "Ini smear +",
          "Ini smear +",
          "Ini smear +",
          "Ini smear +",
          "Ini smear +",
          "Ini smear +",
          "Ini smear +",
          "Ini smear +",
          "Ini smear +",
          "Ini smear +",
          "Missing",
          "Ini smear +",
          "Ini smear +",
          "Ini smear +",
          "Ini smear -",
          "Ini smear +",
          "Ini smear +",
          "Ini smear +",
          "Ini smear +",
          "Ini smear -",
          "Ini smear +",
          "Ini smear +",
          "Ini smear -",
          "Ini smear -",
          "Ini smear +",
          "Ini smear +",
          "Ini smear +",
          "Ini smear +",
          "Ini smear +",
          "Ini smear +",
          "Ini smear +",
          "Ini smear +",
          "Ini smear +",
          "Ini smear +",
          "Ini smear +",
          "Ini smear -",
          "Ini smear +",
          "Ini smear -",
          "Ini smear +",
          "Ini smear +",
          "Ini smear +",
          "Ini smear +",
          "Ini smear -",
          "Ini smear -",
          "Ini smear -",
          "Ini smear +",
          "Ini smear +",
          "Ini smear +",
          "Ini smear -",
          "Ini smear -",
          "Ini smear +",
          "Ini smear +",
          "Ini smear +",
          "Ini smear +",
          "Ini smear +",
          "Ini smear +",
          "Ini smear +",
          "Ini smear +",
          "Ini smear +",
          "Ini smear +",
          "Ini smear +",
          "Ini smear +",
          "Ini smear +",
          "Ini smear +",
          "Ini smear +",
          "Ini smear +",
          "Ini smear +",
          "Ini smear +",
          "Ini smear +",
          "Ini smear +",
          "Ini smear +",
          "Missing"
         ],
         "xaxis": "x",
         "yaxis": "y"
        },
        {
         "bingroup": "x",
         "hovertemplate": "Sex=Female<br>Form of TB=%{x}<br>count=%{y}<extra></extra>",
         "legendgroup": "Female",
         "marker": {
          "color": "#EF553B",
          "pattern": {
           "shape": ""
          }
         },
         "name": "Female",
         "orientation": "v",
         "showlegend": true,
         "type": "histogram",
         "x": [
          "Ini smear -",
          "Ini smear -",
          "Ini smear +",
          "Ini smear +",
          "Ini smear +",
          "Ini smear -",
          "Ini smear +",
          "Ini smear +",
          "Ini smear -",
          "Ini smear +",
          "Ini smear +",
          "Ini smear +",
          "Ini smear +",
          "Ini smear +",
          "Ini smear +",
          "Ini smear +",
          "Ini smear +",
          "Ini smear +",
          "Ini smear +",
          "Ini smear +",
          "Ini smear +",
          "Ini smear -",
          "Ini smear +",
          "Ini smear +",
          "Ini smear +",
          "Ini smear +",
          "Ini smear -",
          "Ini smear +",
          "Ini smear -",
          "Ini smear +",
          "Ini smear +",
          "Ini smear +",
          "Ini smear +",
          "Ini smear +",
          "Ini smear +",
          "Ini smear +",
          "Ini smear +",
          "Ini smear +",
          "Ini smear +",
          "Ini smear +",
          "Ini smear +",
          "Ini smear +",
          "Ini smear -",
          "Ini smear +",
          "Ini smear +",
          "Ini smear +",
          "Ini smear +",
          "Ini smear +",
          "Missing",
          "Ini smear -",
          "Ini smear +",
          "Ini smear +",
          "Ini smear +",
          "Ini smear +",
          "Ini smear -",
          "Ini smear +",
          "Ini smear -",
          "Ini smear -",
          "Ini smear +",
          "Ini smear +",
          "Ini smear +",
          "Ini smear -",
          "Ini smear +",
          "Ini smear +",
          "Ini smear +",
          "Ini smear -",
          "Ini smear -",
          "Ini smear +",
          "Ini smear +",
          "Ini smear +",
          "Ini smear +",
          "Ini smear +",
          "Ini smear -",
          "Ini smear -",
          "Ini smear -",
          "Ini smear +",
          "Ini smear +",
          "Ini smear +",
          "Ini smear +",
          "Ini smear -",
          "Ini smear +",
          "Ini smear +",
          "Ini smear +",
          "Ini smear +",
          "Ini smear +",
          "Ini smear +",
          "Ini smear -",
          "Ini smear +",
          "Ini smear +",
          "Ini smear +",
          "Ini smear +",
          "Ini smear -",
          "Ini smear +",
          "Ini smear -",
          "Ini smear -",
          "Ini smear +",
          "Ini smear +",
          "Ini smear +",
          "Ini smear +",
          "Ini smear -",
          "Ini smear -",
          "Ini smear +",
          "Ini smear +",
          "Ini smear +",
          "Ini smear +",
          "Ini smear -",
          "Ini smear -",
          "Ini smear +",
          "Ini smear +",
          "Ini smear -",
          "Ini smear +",
          "Ini smear -",
          "Ini smear +",
          "Ini smear +",
          "Ini smear +",
          "Ini smear +",
          "Ini smear +",
          "Ini smear +",
          "Ini smear -",
          "Ini smear -",
          "Ini smear +",
          "Ini smear -",
          "Ini smear +",
          "Ini smear +",
          "Ini smear +",
          "Ini smear -",
          "Ini smear +",
          "Ini smear +",
          "Ini smear +",
          "Ini smear +",
          "Ini smear +",
          "Ini smear +",
          "Ini smear +",
          "Ini smear +",
          "Ini smear +",
          "Ini smear +",
          "Ini smear +",
          "Ini smear +",
          "Ini smear -",
          "Ini smear +",
          "Ini smear -",
          "Ini smear -",
          "Ini smear +",
          "Ini smear +",
          "Ini smear +",
          "Ini smear -",
          "Ini smear -",
          "Ini smear +",
          "Ini smear +",
          "Ini smear +",
          "Ini smear +",
          "Ini smear +",
          "Ini smear -",
          "Ini smear +",
          "Ini smear +",
          "Ini smear +",
          "Ini smear +",
          "Ini smear +",
          "Ini smear +",
          "Ini smear -",
          "Ini smear +",
          "Ini smear -",
          "Ini smear +",
          "Ini smear -",
          "Ini smear -",
          "Ini smear +",
          "Ini smear +",
          "Ini smear +",
          "Ini smear +",
          "Ini smear +",
          "Ini smear -",
          "Ini smear -",
          "Ini smear +",
          "Ini smear +",
          "Ini smear -",
          "Ini smear +",
          "Ini smear +",
          "Ini smear +",
          "Ini smear -",
          "Ini smear +",
          "Ini smear +",
          "Ini smear -",
          "Ini smear +",
          "Ini smear +",
          "Ini smear +",
          "Ini smear +",
          "Ini smear +",
          "Ini smear +",
          "Ini smear +",
          "Ini smear -",
          "Ini smear +",
          "Ini smear +"
         ],
         "xaxis": "x",
         "yaxis": "y"
        }
       ],
       "layout": {
        "barmode": "relative",
        "legend": {
         "title": {
          "text": "Sex"
         },
         "tracegroupgap": 0
        },
        "margin": {
         "t": 60
        },
        "template": {
         "data": {
          "bar": [
           {
            "error_x": {
             "color": "#2a3f5f"
            },
            "error_y": {
             "color": "#2a3f5f"
            },
            "marker": {
             "line": {
              "color": "#E5ECF6",
              "width": 0.5
             },
             "pattern": {
              "fillmode": "overlay",
              "size": 10,
              "solidity": 0.2
             }
            },
            "type": "bar"
           }
          ],
          "barpolar": [
           {
            "marker": {
             "line": {
              "color": "#E5ECF6",
              "width": 0.5
             },
             "pattern": {
              "fillmode": "overlay",
              "size": 10,
              "solidity": 0.2
             }
            },
            "type": "barpolar"
           }
          ],
          "carpet": [
           {
            "aaxis": {
             "endlinecolor": "#2a3f5f",
             "gridcolor": "white",
             "linecolor": "white",
             "minorgridcolor": "white",
             "startlinecolor": "#2a3f5f"
            },
            "baxis": {
             "endlinecolor": "#2a3f5f",
             "gridcolor": "white",
             "linecolor": "white",
             "minorgridcolor": "white",
             "startlinecolor": "#2a3f5f"
            },
            "type": "carpet"
           }
          ],
          "choropleth": [
           {
            "colorbar": {
             "outlinewidth": 0,
             "ticks": ""
            },
            "type": "choropleth"
           }
          ],
          "contour": [
           {
            "colorbar": {
             "outlinewidth": 0,
             "ticks": ""
            },
            "colorscale": [
             [
              0,
              "#0d0887"
             ],
             [
              0.1111111111111111,
              "#46039f"
             ],
             [
              0.2222222222222222,
              "#7201a8"
             ],
             [
              0.3333333333333333,
              "#9c179e"
             ],
             [
              0.4444444444444444,
              "#bd3786"
             ],
             [
              0.5555555555555556,
              "#d8576b"
             ],
             [
              0.6666666666666666,
              "#ed7953"
             ],
             [
              0.7777777777777778,
              "#fb9f3a"
             ],
             [
              0.8888888888888888,
              "#fdca26"
             ],
             [
              1,
              "#f0f921"
             ]
            ],
            "type": "contour"
           }
          ],
          "contourcarpet": [
           {
            "colorbar": {
             "outlinewidth": 0,
             "ticks": ""
            },
            "type": "contourcarpet"
           }
          ],
          "heatmap": [
           {
            "colorbar": {
             "outlinewidth": 0,
             "ticks": ""
            },
            "colorscale": [
             [
              0,
              "#0d0887"
             ],
             [
              0.1111111111111111,
              "#46039f"
             ],
             [
              0.2222222222222222,
              "#7201a8"
             ],
             [
              0.3333333333333333,
              "#9c179e"
             ],
             [
              0.4444444444444444,
              "#bd3786"
             ],
             [
              0.5555555555555556,
              "#d8576b"
             ],
             [
              0.6666666666666666,
              "#ed7953"
             ],
             [
              0.7777777777777778,
              "#fb9f3a"
             ],
             [
              0.8888888888888888,
              "#fdca26"
             ],
             [
              1,
              "#f0f921"
             ]
            ],
            "type": "heatmap"
           }
          ],
          "histogram": [
           {
            "marker": {
             "pattern": {
              "fillmode": "overlay",
              "size": 10,
              "solidity": 0.2
             }
            },
            "type": "histogram"
           }
          ],
          "histogram2d": [
           {
            "colorbar": {
             "outlinewidth": 0,
             "ticks": ""
            },
            "colorscale": [
             [
              0,
              "#0d0887"
             ],
             [
              0.1111111111111111,
              "#46039f"
             ],
             [
              0.2222222222222222,
              "#7201a8"
             ],
             [
              0.3333333333333333,
              "#9c179e"
             ],
             [
              0.4444444444444444,
              "#bd3786"
             ],
             [
              0.5555555555555556,
              "#d8576b"
             ],
             [
              0.6666666666666666,
              "#ed7953"
             ],
             [
              0.7777777777777778,
              "#fb9f3a"
             ],
             [
              0.8888888888888888,
              "#fdca26"
             ],
             [
              1,
              "#f0f921"
             ]
            ],
            "type": "histogram2d"
           }
          ],
          "histogram2dcontour": [
           {
            "colorbar": {
             "outlinewidth": 0,
             "ticks": ""
            },
            "colorscale": [
             [
              0,
              "#0d0887"
             ],
             [
              0.1111111111111111,
              "#46039f"
             ],
             [
              0.2222222222222222,
              "#7201a8"
             ],
             [
              0.3333333333333333,
              "#9c179e"
             ],
             [
              0.4444444444444444,
              "#bd3786"
             ],
             [
              0.5555555555555556,
              "#d8576b"
             ],
             [
              0.6666666666666666,
              "#ed7953"
             ],
             [
              0.7777777777777778,
              "#fb9f3a"
             ],
             [
              0.8888888888888888,
              "#fdca26"
             ],
             [
              1,
              "#f0f921"
             ]
            ],
            "type": "histogram2dcontour"
           }
          ],
          "mesh3d": [
           {
            "colorbar": {
             "outlinewidth": 0,
             "ticks": ""
            },
            "type": "mesh3d"
           }
          ],
          "parcoords": [
           {
            "line": {
             "colorbar": {
              "outlinewidth": 0,
              "ticks": ""
             }
            },
            "type": "parcoords"
           }
          ],
          "pie": [
           {
            "automargin": true,
            "type": "pie"
           }
          ],
          "scatter": [
           {
            "fillpattern": {
             "fillmode": "overlay",
             "size": 10,
             "solidity": 0.2
            },
            "type": "scatter"
           }
          ],
          "scatter3d": [
           {
            "line": {
             "colorbar": {
              "outlinewidth": 0,
              "ticks": ""
             }
            },
            "marker": {
             "colorbar": {
              "outlinewidth": 0,
              "ticks": ""
             }
            },
            "type": "scatter3d"
           }
          ],
          "scattercarpet": [
           {
            "marker": {
             "colorbar": {
              "outlinewidth": 0,
              "ticks": ""
             }
            },
            "type": "scattercarpet"
           }
          ],
          "scattergeo": [
           {
            "marker": {
             "colorbar": {
              "outlinewidth": 0,
              "ticks": ""
             }
            },
            "type": "scattergeo"
           }
          ],
          "scattergl": [
           {
            "marker": {
             "colorbar": {
              "outlinewidth": 0,
              "ticks": ""
             }
            },
            "type": "scattergl"
           }
          ],
          "scattermap": [
           {
            "marker": {
             "colorbar": {
              "outlinewidth": 0,
              "ticks": ""
             }
            },
            "type": "scattermap"
           }
          ],
          "scattermapbox": [
           {
            "marker": {
             "colorbar": {
              "outlinewidth": 0,
              "ticks": ""
             }
            },
            "type": "scattermapbox"
           }
          ],
          "scatterpolar": [
           {
            "marker": {
             "colorbar": {
              "outlinewidth": 0,
              "ticks": ""
             }
            },
            "type": "scatterpolar"
           }
          ],
          "scatterpolargl": [
           {
            "marker": {
             "colorbar": {
              "outlinewidth": 0,
              "ticks": ""
             }
            },
            "type": "scatterpolargl"
           }
          ],
          "scatterternary": [
           {
            "marker": {
             "colorbar": {
              "outlinewidth": 0,
              "ticks": ""
             }
            },
            "type": "scatterternary"
           }
          ],
          "surface": [
           {
            "colorbar": {
             "outlinewidth": 0,
             "ticks": ""
            },
            "colorscale": [
             [
              0,
              "#0d0887"
             ],
             [
              0.1111111111111111,
              "#46039f"
             ],
             [
              0.2222222222222222,
              "#7201a8"
             ],
             [
              0.3333333333333333,
              "#9c179e"
             ],
             [
              0.4444444444444444,
              "#bd3786"
             ],
             [
              0.5555555555555556,
              "#d8576b"
             ],
             [
              0.6666666666666666,
              "#ed7953"
             ],
             [
              0.7777777777777778,
              "#fb9f3a"
             ],
             [
              0.8888888888888888,
              "#fdca26"
             ],
             [
              1,
              "#f0f921"
             ]
            ],
            "type": "surface"
           }
          ],
          "table": [
           {
            "cells": {
             "fill": {
              "color": "#EBF0F8"
             },
             "line": {
              "color": "white"
             }
            },
            "header": {
             "fill": {
              "color": "#C8D4E3"
             },
             "line": {
              "color": "white"
             }
            },
            "type": "table"
           }
          ]
         },
         "layout": {
          "annotationdefaults": {
           "arrowcolor": "#2a3f5f",
           "arrowhead": 0,
           "arrowwidth": 1
          },
          "autotypenumbers": "strict",
          "coloraxis": {
           "colorbar": {
            "outlinewidth": 0,
            "ticks": ""
           }
          },
          "colorscale": {
           "diverging": [
            [
             0,
             "#8e0152"
            ],
            [
             0.1,
             "#c51b7d"
            ],
            [
             0.2,
             "#de77ae"
            ],
            [
             0.3,
             "#f1b6da"
            ],
            [
             0.4,
             "#fde0ef"
            ],
            [
             0.5,
             "#f7f7f7"
            ],
            [
             0.6,
             "#e6f5d0"
            ],
            [
             0.7,
             "#b8e186"
            ],
            [
             0.8,
             "#7fbc41"
            ],
            [
             0.9,
             "#4d9221"
            ],
            [
             1,
             "#276419"
            ]
           ],
           "sequential": [
            [
             0,
             "#0d0887"
            ],
            [
             0.1111111111111111,
             "#46039f"
            ],
            [
             0.2222222222222222,
             "#7201a8"
            ],
            [
             0.3333333333333333,
             "#9c179e"
            ],
            [
             0.4444444444444444,
             "#bd3786"
            ],
            [
             0.5555555555555556,
             "#d8576b"
            ],
            [
             0.6666666666666666,
             "#ed7953"
            ],
            [
             0.7777777777777778,
             "#fb9f3a"
            ],
            [
             0.8888888888888888,
             "#fdca26"
            ],
            [
             1,
             "#f0f921"
            ]
           ],
           "sequentialminus": [
            [
             0,
             "#0d0887"
            ],
            [
             0.1111111111111111,
             "#46039f"
            ],
            [
             0.2222222222222222,
             "#7201a8"
            ],
            [
             0.3333333333333333,
             "#9c179e"
            ],
            [
             0.4444444444444444,
             "#bd3786"
            ],
            [
             0.5555555555555556,
             "#d8576b"
            ],
            [
             0.6666666666666666,
             "#ed7953"
            ],
            [
             0.7777777777777778,
             "#fb9f3a"
            ],
            [
             0.8888888888888888,
             "#fdca26"
            ],
            [
             1,
             "#f0f921"
            ]
           ]
          },
          "colorway": [
           "#636efa",
           "#EF553B",
           "#00cc96",
           "#ab63fa",
           "#FFA15A",
           "#19d3f3",
           "#FF6692",
           "#B6E880",
           "#FF97FF",
           "#FECB52"
          ],
          "font": {
           "color": "#2a3f5f"
          },
          "geo": {
           "bgcolor": "white",
           "lakecolor": "white",
           "landcolor": "#E5ECF6",
           "showlakes": true,
           "showland": true,
           "subunitcolor": "white"
          },
          "hoverlabel": {
           "align": "left"
          },
          "hovermode": "closest",
          "mapbox": {
           "style": "light"
          },
          "paper_bgcolor": "white",
          "plot_bgcolor": "#E5ECF6",
          "polar": {
           "angularaxis": {
            "gridcolor": "white",
            "linecolor": "white",
            "ticks": ""
           },
           "bgcolor": "#E5ECF6",
           "radialaxis": {
            "gridcolor": "white",
            "linecolor": "white",
            "ticks": ""
           }
          },
          "scene": {
           "xaxis": {
            "backgroundcolor": "#E5ECF6",
            "gridcolor": "white",
            "gridwidth": 2,
            "linecolor": "white",
            "showbackground": true,
            "ticks": "",
            "zerolinecolor": "white"
           },
           "yaxis": {
            "backgroundcolor": "#E5ECF6",
            "gridcolor": "white",
            "gridwidth": 2,
            "linecolor": "white",
            "showbackground": true,
            "ticks": "",
            "zerolinecolor": "white"
           },
           "zaxis": {
            "backgroundcolor": "#E5ECF6",
            "gridcolor": "white",
            "gridwidth": 2,
            "linecolor": "white",
            "showbackground": true,
            "ticks": "",
            "zerolinecolor": "white"
           }
          },
          "shapedefaults": {
           "line": {
            "color": "#2a3f5f"
           }
          },
          "ternary": {
           "aaxis": {
            "gridcolor": "white",
            "linecolor": "white",
            "ticks": ""
           },
           "baxis": {
            "gridcolor": "white",
            "linecolor": "white",
            "ticks": ""
           },
           "bgcolor": "#E5ECF6",
           "caxis": {
            "gridcolor": "white",
            "linecolor": "white",
            "ticks": ""
           }
          },
          "title": {
           "x": 0.05
          },
          "xaxis": {
           "automargin": true,
           "gridcolor": "white",
           "linecolor": "white",
           "ticks": "",
           "title": {
            "standoff": 15
           },
           "zerolinecolor": "white",
           "zerolinewidth": 2
          },
          "yaxis": {
           "automargin": true,
           "gridcolor": "white",
           "linecolor": "white",
           "ticks": "",
           "title": {
            "standoff": 15
           },
           "zerolinecolor": "white",
           "zerolinewidth": 2
          }
         }
        },
        "xaxis": {
         "anchor": "y",
         "domain": [
          0,
          1
         ],
         "title": {
          "text": "Form of TB"
         }
        },
        "yaxis": {
         "anchor": "x",
         "domain": [
          0,
          1
         ],
         "title": {
          "text": "count"
         }
        }
       }
      }
     },
     "metadata": {},
     "output_type": "display_data"
    }
   ],
   "source": [
    "import plotly.express as px\n",
    "px.histogram(india_tb, x =\"Form of TB\" , color = \"Sex\")"
   ]
  },
  {
   "cell_type": "code",
   "execution_count": null,
   "id": "b048d509-6142-4923-a5c2-49bf9cce3074",
   "metadata": {
    "vscode": {
     "languageId": "quarto"
    }
   },
   "outputs": [
    {
     "data": {
      "application/vnd.plotly.v1+json": {
       "config": {
        "plotlyServerURL": "https://plot.ly"
       },
       "data": [
        {
         "bingroup": "x",
         "hovertemplate": "Age=%{x}<br>count=%{y}<extra></extra>",
         "legendgroup": "",
         "marker": {
          "color": "#636efa",
          "pattern": {
           "shape": ""
          }
         },
         "name": "",
         "orientation": "v",
         "showlegend": false,
         "type": "histogram",
         "x": {
          "bdata": "OUItGzY8HBUiMCguHiYbIzQ0Jh4kQRkzQTcWIyA3NyY3NxkqMjYwNxs5FB40KCZGGyMYLUk8HioYGBwoFCYWLRoVJzciGCYtNyMTPBItEyckJRkkMj4oMjQ5Q0FLPEEoHhpBLRgmHzlDKkAqJCgwLCUtNyoTLTwtHig6PBQjMhk3KjIeKjcvIywvRh5DFjAdPzQmKCwzExwqFhcXPi8nNz4iLS0eHjU6HkQ8FTY8NzImLTc8PDImMRMjPEE3PBcTKDcmPDctLTAcPBk4IyEhISovLykyFRMeKEE8Pjg8KzlBGiMnJj8jKDAtGUEyHygyNihBJkEeLx4jNjcYIy0wMj8lIC08KCspKDdBPDYUNy8tGTdFHhMtLSk+MjgaNygfKBVGHi1BMD9BK0Y3NyY7HiYwJhoUNDA8IiQeQEFBPi0jFDQyOS8ePzktMzk3HDBDIxkyF0EUEkVBLCM3LSA+PDwZP0giQUFDLEcuNygxLC00KxkqNTwqPDcjNzAyKik8RTxBJjc7MTkVMTYgKjkxHkNBEyU4ORUbHh0UPEBDOjw3MkQtHigkIy8pMTAfND83OSY6MzI9QSMnNCUmNzwiJkEXKDgVOSEXMjU8M0ItIzEXRBwoJDcmFRI8NDo6PDIyGiYZOyhDJikyNzBBOUYlMy86LTw7QTstGzY8LSElGRVBQSw2Ny0mIzEwFBZDKB4VHiY0NT8UQSAoGjgtQjxFKyg+RDw3OC1BNCZFQTMtJjA3GTI8PDk5Kxg0MBQvHDwcMDwyJjc1OjQ8IhM8Nyc3GUFBGSg8P0EoMi1BIz40LTszLS9LQi8oJjw2ODE8QS83ODA8MDE+FTo3ODsjLUQoPygtLTIUPEE8G0EyNTcvOSgyQzxCNzxLHS1YJjw5Q0s3PDI8LlAvKhJGJjA7QTkzQTw6KC8aPigYJiFCJDlBKEEsPkEyQScUHi0lI0E8FygaGEIuL0FBQTIgLShGODw7Ly03Ojc3OkYjKDouSRtBFxgiNxYUHEA8QDw3MTU8FRQoGyUoKC0dK0EyRjc3QUMwN0wqTBZBLRgjNS4tIzkTKBI8MkEmFj4xMjxEGDA2Mj0nLCU9Mj01RBkgNy0oFDcULDw3PyMxGxgtIDwsNTEUPjwtMDRAJjU8Oj43GSsjOSQXKTQnLSQbIy83Iz8sPD9BPA==",
          "dtype": "i1"
         },
         "xaxis": "x",
         "yaxis": "y"
        }
       ],
       "layout": {
        "barmode": "relative",
        "legend": {
         "tracegroupgap": 0
        },
        "margin": {
         "t": 60
        },
        "template": {
         "data": {
          "bar": [
           {
            "error_x": {
             "color": "#2a3f5f"
            },
            "error_y": {
             "color": "#2a3f5f"
            },
            "marker": {
             "line": {
              "color": "#E5ECF6",
              "width": 0.5
             },
             "pattern": {
              "fillmode": "overlay",
              "size": 10,
              "solidity": 0.2
             }
            },
            "type": "bar"
           }
          ],
          "barpolar": [
           {
            "marker": {
             "line": {
              "color": "#E5ECF6",
              "width": 0.5
             },
             "pattern": {
              "fillmode": "overlay",
              "size": 10,
              "solidity": 0.2
             }
            },
            "type": "barpolar"
           }
          ],
          "carpet": [
           {
            "aaxis": {
             "endlinecolor": "#2a3f5f",
             "gridcolor": "white",
             "linecolor": "white",
             "minorgridcolor": "white",
             "startlinecolor": "#2a3f5f"
            },
            "baxis": {
             "endlinecolor": "#2a3f5f",
             "gridcolor": "white",
             "linecolor": "white",
             "minorgridcolor": "white",
             "startlinecolor": "#2a3f5f"
            },
            "type": "carpet"
           }
          ],
          "choropleth": [
           {
            "colorbar": {
             "outlinewidth": 0,
             "ticks": ""
            },
            "type": "choropleth"
           }
          ],
          "contour": [
           {
            "colorbar": {
             "outlinewidth": 0,
             "ticks": ""
            },
            "colorscale": [
             [
              0,
              "#0d0887"
             ],
             [
              0.1111111111111111,
              "#46039f"
             ],
             [
              0.2222222222222222,
              "#7201a8"
             ],
             [
              0.3333333333333333,
              "#9c179e"
             ],
             [
              0.4444444444444444,
              "#bd3786"
             ],
             [
              0.5555555555555556,
              "#d8576b"
             ],
             [
              0.6666666666666666,
              "#ed7953"
             ],
             [
              0.7777777777777778,
              "#fb9f3a"
             ],
             [
              0.8888888888888888,
              "#fdca26"
             ],
             [
              1,
              "#f0f921"
             ]
            ],
            "type": "contour"
           }
          ],
          "contourcarpet": [
           {
            "colorbar": {
             "outlinewidth": 0,
             "ticks": ""
            },
            "type": "contourcarpet"
           }
          ],
          "heatmap": [
           {
            "colorbar": {
             "outlinewidth": 0,
             "ticks": ""
            },
            "colorscale": [
             [
              0,
              "#0d0887"
             ],
             [
              0.1111111111111111,
              "#46039f"
             ],
             [
              0.2222222222222222,
              "#7201a8"
             ],
             [
              0.3333333333333333,
              "#9c179e"
             ],
             [
              0.4444444444444444,
              "#bd3786"
             ],
             [
              0.5555555555555556,
              "#d8576b"
             ],
             [
              0.6666666666666666,
              "#ed7953"
             ],
             [
              0.7777777777777778,
              "#fb9f3a"
             ],
             [
              0.8888888888888888,
              "#fdca26"
             ],
             [
              1,
              "#f0f921"
             ]
            ],
            "type": "heatmap"
           }
          ],
          "histogram": [
           {
            "marker": {
             "pattern": {
              "fillmode": "overlay",
              "size": 10,
              "solidity": 0.2
             }
            },
            "type": "histogram"
           }
          ],
          "histogram2d": [
           {
            "colorbar": {
             "outlinewidth": 0,
             "ticks": ""
            },
            "colorscale": [
             [
              0,
              "#0d0887"
             ],
             [
              0.1111111111111111,
              "#46039f"
             ],
             [
              0.2222222222222222,
              "#7201a8"
             ],
             [
              0.3333333333333333,
              "#9c179e"
             ],
             [
              0.4444444444444444,
              "#bd3786"
             ],
             [
              0.5555555555555556,
              "#d8576b"
             ],
             [
              0.6666666666666666,
              "#ed7953"
             ],
             [
              0.7777777777777778,
              "#fb9f3a"
             ],
             [
              0.8888888888888888,
              "#fdca26"
             ],
             [
              1,
              "#f0f921"
             ]
            ],
            "type": "histogram2d"
           }
          ],
          "histogram2dcontour": [
           {
            "colorbar": {
             "outlinewidth": 0,
             "ticks": ""
            },
            "colorscale": [
             [
              0,
              "#0d0887"
             ],
             [
              0.1111111111111111,
              "#46039f"
             ],
             [
              0.2222222222222222,
              "#7201a8"
             ],
             [
              0.3333333333333333,
              "#9c179e"
             ],
             [
              0.4444444444444444,
              "#bd3786"
             ],
             [
              0.5555555555555556,
              "#d8576b"
             ],
             [
              0.6666666666666666,
              "#ed7953"
             ],
             [
              0.7777777777777778,
              "#fb9f3a"
             ],
             [
              0.8888888888888888,
              "#fdca26"
             ],
             [
              1,
              "#f0f921"
             ]
            ],
            "type": "histogram2dcontour"
           }
          ],
          "mesh3d": [
           {
            "colorbar": {
             "outlinewidth": 0,
             "ticks": ""
            },
            "type": "mesh3d"
           }
          ],
          "parcoords": [
           {
            "line": {
             "colorbar": {
              "outlinewidth": 0,
              "ticks": ""
             }
            },
            "type": "parcoords"
           }
          ],
          "pie": [
           {
            "automargin": true,
            "type": "pie"
           }
          ],
          "scatter": [
           {
            "fillpattern": {
             "fillmode": "overlay",
             "size": 10,
             "solidity": 0.2
            },
            "type": "scatter"
           }
          ],
          "scatter3d": [
           {
            "line": {
             "colorbar": {
              "outlinewidth": 0,
              "ticks": ""
             }
            },
            "marker": {
             "colorbar": {
              "outlinewidth": 0,
              "ticks": ""
             }
            },
            "type": "scatter3d"
           }
          ],
          "scattercarpet": [
           {
            "marker": {
             "colorbar": {
              "outlinewidth": 0,
              "ticks": ""
             }
            },
            "type": "scattercarpet"
           }
          ],
          "scattergeo": [
           {
            "marker": {
             "colorbar": {
              "outlinewidth": 0,
              "ticks": ""
             }
            },
            "type": "scattergeo"
           }
          ],
          "scattergl": [
           {
            "marker": {
             "colorbar": {
              "outlinewidth": 0,
              "ticks": ""
             }
            },
            "type": "scattergl"
           }
          ],
          "scattermap": [
           {
            "marker": {
             "colorbar": {
              "outlinewidth": 0,
              "ticks": ""
             }
            },
            "type": "scattermap"
           }
          ],
          "scattermapbox": [
           {
            "marker": {
             "colorbar": {
              "outlinewidth": 0,
              "ticks": ""
             }
            },
            "type": "scattermapbox"
           }
          ],
          "scatterpolar": [
           {
            "marker": {
             "colorbar": {
              "outlinewidth": 0,
              "ticks": ""
             }
            },
            "type": "scatterpolar"
           }
          ],
          "scatterpolargl": [
           {
            "marker": {
             "colorbar": {
              "outlinewidth": 0,
              "ticks": ""
             }
            },
            "type": "scatterpolargl"
           }
          ],
          "scatterternary": [
           {
            "marker": {
             "colorbar": {
              "outlinewidth": 0,
              "ticks": ""
             }
            },
            "type": "scatterternary"
           }
          ],
          "surface": [
           {
            "colorbar": {
             "outlinewidth": 0,
             "ticks": ""
            },
            "colorscale": [
             [
              0,
              "#0d0887"
             ],
             [
              0.1111111111111111,
              "#46039f"
             ],
             [
              0.2222222222222222,
              "#7201a8"
             ],
             [
              0.3333333333333333,
              "#9c179e"
             ],
             [
              0.4444444444444444,
              "#bd3786"
             ],
             [
              0.5555555555555556,
              "#d8576b"
             ],
             [
              0.6666666666666666,
              "#ed7953"
             ],
             [
              0.7777777777777778,
              "#fb9f3a"
             ],
             [
              0.8888888888888888,
              "#fdca26"
             ],
             [
              1,
              "#f0f921"
             ]
            ],
            "type": "surface"
           }
          ],
          "table": [
           {
            "cells": {
             "fill": {
              "color": "#EBF0F8"
             },
             "line": {
              "color": "white"
             }
            },
            "header": {
             "fill": {
              "color": "#C8D4E3"
             },
             "line": {
              "color": "white"
             }
            },
            "type": "table"
           }
          ]
         },
         "layout": {
          "annotationdefaults": {
           "arrowcolor": "#2a3f5f",
           "arrowhead": 0,
           "arrowwidth": 1
          },
          "autotypenumbers": "strict",
          "coloraxis": {
           "colorbar": {
            "outlinewidth": 0,
            "ticks": ""
           }
          },
          "colorscale": {
           "diverging": [
            [
             0,
             "#8e0152"
            ],
            [
             0.1,
             "#c51b7d"
            ],
            [
             0.2,
             "#de77ae"
            ],
            [
             0.3,
             "#f1b6da"
            ],
            [
             0.4,
             "#fde0ef"
            ],
            [
             0.5,
             "#f7f7f7"
            ],
            [
             0.6,
             "#e6f5d0"
            ],
            [
             0.7,
             "#b8e186"
            ],
            [
             0.8,
             "#7fbc41"
            ],
            [
             0.9,
             "#4d9221"
            ],
            [
             1,
             "#276419"
            ]
           ],
           "sequential": [
            [
             0,
             "#0d0887"
            ],
            [
             0.1111111111111111,
             "#46039f"
            ],
            [
             0.2222222222222222,
             "#7201a8"
            ],
            [
             0.3333333333333333,
             "#9c179e"
            ],
            [
             0.4444444444444444,
             "#bd3786"
            ],
            [
             0.5555555555555556,
             "#d8576b"
            ],
            [
             0.6666666666666666,
             "#ed7953"
            ],
            [
             0.7777777777777778,
             "#fb9f3a"
            ],
            [
             0.8888888888888888,
             "#fdca26"
            ],
            [
             1,
             "#f0f921"
            ]
           ],
           "sequentialminus": [
            [
             0,
             "#0d0887"
            ],
            [
             0.1111111111111111,
             "#46039f"
            ],
            [
             0.2222222222222222,
             "#7201a8"
            ],
            [
             0.3333333333333333,
             "#9c179e"
            ],
            [
             0.4444444444444444,
             "#bd3786"
            ],
            [
             0.5555555555555556,
             "#d8576b"
            ],
            [
             0.6666666666666666,
             "#ed7953"
            ],
            [
             0.7777777777777778,
             "#fb9f3a"
            ],
            [
             0.8888888888888888,
             "#fdca26"
            ],
            [
             1,
             "#f0f921"
            ]
           ]
          },
          "colorway": [
           "#636efa",
           "#EF553B",
           "#00cc96",
           "#ab63fa",
           "#FFA15A",
           "#19d3f3",
           "#FF6692",
           "#B6E880",
           "#FF97FF",
           "#FECB52"
          ],
          "font": {
           "color": "#2a3f5f"
          },
          "geo": {
           "bgcolor": "white",
           "lakecolor": "white",
           "landcolor": "#E5ECF6",
           "showlakes": true,
           "showland": true,
           "subunitcolor": "white"
          },
          "hoverlabel": {
           "align": "left"
          },
          "hovermode": "closest",
          "mapbox": {
           "style": "light"
          },
          "paper_bgcolor": "white",
          "plot_bgcolor": "#E5ECF6",
          "polar": {
           "angularaxis": {
            "gridcolor": "white",
            "linecolor": "white",
            "ticks": ""
           },
           "bgcolor": "#E5ECF6",
           "radialaxis": {
            "gridcolor": "white",
            "linecolor": "white",
            "ticks": ""
           }
          },
          "scene": {
           "xaxis": {
            "backgroundcolor": "#E5ECF6",
            "gridcolor": "white",
            "gridwidth": 2,
            "linecolor": "white",
            "showbackground": true,
            "ticks": "",
            "zerolinecolor": "white"
           },
           "yaxis": {
            "backgroundcolor": "#E5ECF6",
            "gridcolor": "white",
            "gridwidth": 2,
            "linecolor": "white",
            "showbackground": true,
            "ticks": "",
            "zerolinecolor": "white"
           },
           "zaxis": {
            "backgroundcolor": "#E5ECF6",
            "gridcolor": "white",
            "gridwidth": 2,
            "linecolor": "white",
            "showbackground": true,
            "ticks": "",
            "zerolinecolor": "white"
           }
          },
          "shapedefaults": {
           "line": {
            "color": "#2a3f5f"
           }
          },
          "ternary": {
           "aaxis": {
            "gridcolor": "white",
            "linecolor": "white",
            "ticks": ""
           },
           "baxis": {
            "gridcolor": "white",
            "linecolor": "white",
            "ticks": ""
           },
           "bgcolor": "#E5ECF6",
           "caxis": {
            "gridcolor": "white",
            "linecolor": "white",
            "ticks": ""
           }
          },
          "title": {
           "x": 0.05
          },
          "xaxis": {
           "automargin": true,
           "gridcolor": "white",
           "linecolor": "white",
           "ticks": "",
           "title": {
            "standoff": 15
           },
           "zerolinecolor": "white",
           "zerolinewidth": 2
          },
          "yaxis": {
           "automargin": true,
           "gridcolor": "white",
           "linecolor": "white",
           "ticks": "",
           "title": {
            "standoff": 15
           },
           "zerolinecolor": "white",
           "zerolinewidth": 2
          }
         }
        },
        "xaxis": {
         "anchor": "y",
         "domain": [
          0,
          1
         ],
         "title": {
          "text": "Age"
         }
        },
        "yaxis": {
         "anchor": "x",
         "domain": [
          0,
          1
         ],
         "title": {
          "text": "count"
         }
        }
       }
      }
     },
     "metadata": {},
     "output_type": "display_data"
    }
   ],
   "source": [
    "px.histogram(india_tb,x=\"Age\")"
   ]
  },
  {
   "cell_type": "code",
   "execution_count": null,
   "id": "9b00fec3-ed9c-4d45-8271-c10c02604b32",
   "metadata": {
    "vscode": {
     "languageId": "quarto"
    }
   },
   "outputs": [
    {
     "data": {
      "application/vnd.plotly.v1+json": {
       "config": {
        "plotlyServerURL": "https://plot.ly"
       },
       "data": [
        {
         "hovertemplate": "Age=%{x}<br>WtinKgs=%{y}<extra></extra>",
         "legendgroup": "",
         "marker": {
          "color": "#636efa",
          "symbol": "circle"
         },
         "mode": "markers",
         "name": "",
         "orientation": "v",
         "showlegend": false,
         "type": "scatter",
         "x": {
          "bdata": "OUItGzY8HBUiMCguHiYbIzQ0Jh4kQRkzQTcWIyA3NyY3NxkqMjYwNxs5FB40KCZGGyMYLUk8HioYGBwoFCYWLRoVJzciGCYtNyMTPBItEyckJRkkMj4oMjQ5Q0FLPEEoHhpBLRgmHzlDKkAqJCgwLCUtNyoTLTwtHig6PBQjMhk3KjIeKjcvIywvRh5DFjAdPzQmKCwzExwqFhcXPi8nNz4iLS0eHjU6HkQ8FTY8NzImLTc8PDImMRMjPEE3PBcTKDcmPDctLTAcPBk4IyEhISovLykyFRMeKEE8Pjg8KzlBGiMnJj8jKDAtGUEyHygyNihBJkEeLx4jNjcYIy0wMj8lIC08KCspKDdBPDYUNy8tGTdFHhMtLSk+MjgaNygfKBVGHi1BMD9BK0Y3NyY7HiYwJhoUNDA8IiQeQEFBPi0jFDQyOS8ePzktMzk3HDBDIxkyF0EUEkVBLCM3LSA+PDwZP0giQUFDLEcuNygxLC00KxkqNTwqPDcjNzAyKik8RTxBJjc7MTkVMTYgKjkxHkNBEyU4ORUbHh0UPEBDOjw3MkQtHigkIy8pMTAfND83OSY6MzI9QSMnNCUmNzwiJkEXKDgVOSEXMjU8M0ItIzEXRBwoJDcmFRI8NDo6PDIyGiYZOyhDJikyNzBBOUYlMy86LTw7QTstGzY8LSElGRVBQSw2Ny0mIzEwFBZDKB4VHiY0NT8UQSAoGjgtQjxFKyg+RDw3OC1BNCZFQTMtJjA3GTI8PDk5Kxg0MBQvHDwcMDwyJjc1OjQ8IhM8Nyc3GUFBGSg8P0EoMi1BIz40LTszLS9LQi8oJjw2ODE8QS83ODA8MDE+FTo3ODsjLUQoPygtLTIUPEE8G0EyNTcvOSgyQzxCNzxLHS1YJjw5Q0s3PDI8LlAvKhJGJjA7QTkzQTw6KC8aPigYJiFCJDlBKEEsPkEyQScUHi0lI0E8FygaGEIuL0FBQTIgLShGODw7Ly03Ojc3OkYjKDouSRtBFxgiNxYUHEA8QDw3MTU8FRQoGyUoKC0dK0EyRjc3QUMwN0wqTBZBLRgjNS4tIzkTKBI8MkEmFj4xMjxEGDA2Mj0nLCU9Mj01RBkgNy0oFDcULDw3PyMxGxgtIDwsNTEUPjwtMDRAJjU8Oj43GSsjOSQXKTQnLSQbIy83Iz8sPD9BPA==",
          "dtype": "i1"
         },
         "xaxis": "x",
         "y": {
          "bdata": "AAAAAAAATUAAAAAAAABAQAAAAAAAAEdAAAAAAACASUAAAAAAAIBDQAAAAAAAgEVAAAAAAACAR0AAAAAAAAA/QAAAAAAAAEZAAAAAAAAAREAAAAAAAABNQAAAAAAAAEVAAAAAAAAAQ0AAAAAAAABDQAAAAAAAAERAAAAAAACARkAAAAAAAABCQAAAAAAAAE5AAAAAAAAAREAAAAAAAIBBQAAAAAAAAEhAAAAAAAAASEAAAAAAAIBGQAAAAAAAAERAAAAAAACAQUAAAAAAAABHQAAAAAAAAEBAAAAAAAAAR0AAAAAAAABHQAAAAAAAAEpAAAAAAAAAREAAAAAAAIBIQAAAAAAAgEhAAAAAAACAR0AAAAAAAIBFQAAAAAAAgEZAAAAAAACAQUAAAAAAAABBQAAAAAAAgEFAAAAAAAAAQ0AAAAAAAABIQAAAAAAAAENAAAAAAAAAQkAAAAAAAABBQAAAAAAAgEZAAAAAAAAAT0AAAAAAAIBMQAAAAAAAAEFAAAAAAAAAR0AAAAAAAIBBQAAAAAAAAEVAAAAAAAAARkAAAAAAAABHQAAAAAAAAEpAAAAAAACAQUAAAAAAAABJQAAAAAAAgEBAAAAAAAAAR0AAAAAAAABHQAAAAAAAQERAAAAAAAAARkAAAAAAAIBAQAAAAAAAAERAAAAAAACASEAAAAAAAIBGQAAAAAAAAENAAAAAAAAAS0AAAAAAAIBNQAAAAAAAgEdAAAAAAACAQkAAAAAAAABIQAAAAAAAwFJAAAAAAAAAQEBmZmZmZiZJQAAAAAAAgEVAAAAAAAAASEAAAAAAAIBGQAAAAAAAgEBAAAAAAAAAQUAAAAAAAIBCQAAAAAAAgENAAAAAAAAASEAAAAAAAABEQAAAAAAAAEtAAAAAAACARUAAAAAAAABCQAAAAAAAAD5AAAAAAAAARUAAAAAAAIBGQAAAAAAAgEZAAAAAAACAS0AAAAAAAIBHQAAAAAAAgERAAAAAAAAASUAAAAAAAABDQAAAAAAAAEVAAAAAAAAASUAAAAAAAABBQAAAAAAAgEpAAAAAAACAQkAAAAAAAIBGQAAAAAAAAElAAAAAAACAQUAAAAAAAABDQAAAAAAAgEdAAAAAAACATUAAAAAAAIBDQAAAAAAAAEpAAAAAAACARkAAAAAAAABDQAAAAAAAAEhAMzMzMzOzR0AAAAAAAABFQAAAAAAAAEVAzczMzMyMQ0AAAAAAAIBDQAAAAAAAgEZAAAAAAAAARUAAAAAAAABMQAAAAAAAgE5AAAAAAACARUAAAAAAAIBOQAAAAAAAAEhAMzMzMzOzREAAAAAAAIBBQAAAAAAAAERAAAAAAAAAREAAAAAAAIBFQAAAAAAAgEZAAAAAAAAAREAAAAAAAABFQAAAAAAAgEVAAAAAAACAQkAAAAAAAIBHQAAAAAAAAEpAAAAAAAAASUAAAAAAAIBGQAAAAAAAAEFAAAAAAACARkAAAAAAAABCQAAAAAAAAE5AAAAAAAAARUAAAAAAAIBCQAAAAAAAgEZAAAAAAACAR0AAAAAAAABGQAAAAAAAAENAAAAAAACASUAAAAAAAIBDQAAAAAAAAERAAAAAAACAQUAAAAAAAABEQAAAAAAAAEVAAAAAAAAAQkAAAAAAAABJQAAAAAAAgERAAAAAAACAR0AAAAAAAABJQAAAAAAAAExAAAAAAAAASkAAAAAAAIBIQAAAAAAAAEhAAAAAAAAAREAAAAAAAIBGQAAAAAAAQERAmpmZmZkZSUAAAAAAAEBEQAAAAAAAAE1AAAAAAACAREAAAAAAAABDQAAAAAAAAEBAAAAAAACASUAAAAAAAIBFQAAAAAAAgEVAAAAAAAAARUAAAAAAAEBRQAAAAAAAgEZAAAAAAAAASUAAAAAAAIBGQAAAAAAAgEBAAAAAAACAREAAAAAAAIBCQAAAAAAAAEpAAAAAAACAR0AAAAAAAABCQAAAAAAAgEZAAAAAAAAASUAAAAAAAIBIQAAAAAAAAERAAAAAAACARUAAAAAAAABRQAAAAAAAAEFAAAAAAAAAQ0AAAAAAAABFQAAAAAAAAERAAAAAAACAQUAAAAAAAIBBQAAAAAAAAEdAAAAAAAAAR0AAAAAAAABOQAAAAAAAgEFAAAAAAACASUAAAAAAAABEQAAAAAAAAElAAAAAAAAAR0AAAAAAAABFQAAAAAAAAE9AAAAAAACARkAAAAAAAIBHQAAAAAAAQFFAAAAAAAAAREAAAAAAAIBBQAAAAAAAgEFAAAAAAAAAREAAAAAAAIBDQAAAAAAAgEtAAAAAAACARkAAAAAAAMBQQAAAAAAAgEdAAAAAAAAAR0AAAAAAAIBLQAAAAAAAAExAAAAAAAAATkAAAAAAAIBGQAAAAAAAAERAAAAAAACARUAAAAAAAIBNQAAAAAAAAEVAAAAAAACAREAAAAAAAIBCQAAAAAAAAEVAAAAAAACARUAAAAAAAABDQAAAAAAAgENAAAAAAACAREAAAAAAAABEQAAAAAAAAEBAAAAAAACARkAAAAAAAIBEQAAAAAAAQEFAAAAAAABAS0AAAAAAAMBEQAAAAAAAAEVAAAAAAACAR0AAAAAAAIBMQAAAAAAAAERAAAAAAACAS0AAAAAAAIBHQAAAAAAAgExAAAAAAAAAQkAAAAAAAABOQAAAAAAAgEFAAAAAAAAAP0AAAAAAAABIQM3MzMzMDENAAAAAAACATUAAAAAAAABJQGZmZmZmJkdAMzMzMzPTUEBmZmZmZmZHQGZmZmZmZkxAAAAAAACASUAAAAAAAIBAQAAAAAAAAElAAAAAAAAAREAAAAAAAABEQAAAAAAAgEZAAAAAAAAAP0AAAAAAAABUQAAAAAAAgEFAAAAAAACAQkBmZmZmZqZFQAAAAAAAgEZAAAAAAACARkBmZmZmZmY+QJqZmZmZGUdAMzMzMzOzR0AAAAAAAIBHQM3MzMzMDEpAmpmZmZmZQUAAAAAAAIBGQGZmZmZmpkNAAAAAAAAAQUAAAAAAAABAQAAAAAAAAEZAAAAAAAAAREAAAAAAAIBFQAAAAAAAgEVAAAAAAACAS0AAAAAAAIBCQAAAAAAAgEJAAAAAAAAAPkAAAAAAAABEQAAAAAAAAElAAAAAAAAASUAAAAAAAIBSQAAAAAAAgElAAAAAAAAASkAAAAAAAABEQAAAAAAAAElAAAAAAAAASkAAAAAAAABBQAAAAAAAAElAAAAAAAAAQEAAAAAAAIBPQAAAAAAAgEhAAAAAAACAR0AAAAAAAIBAQAAAAAAAAEhAAAAAAABAUUAAAAAAAABJQAAAAAAAAEZAAAAAAACATUAAAAAAAIBCQAAAAAAAgENAAAAAAACARUAAAAAAAABEQAAAAAAAgEtAAAAAAACASEAAAAAAAABEQAAAAAAAAEJAAAAAAACAQUAAAAAAAIBCQGZmZmZmpkRAAAAAAACARUAAAAAAAIBGQAAAAAAAgEVAZmZmZmZmS0BmZmZmZmZKQGZmZmZmpkdAmpmZmZmZTEAzMzMzMzNDQGZmZmZmpkBAAAAAAACASEAAAAAAAIBCQM3MzMzMTEdAzczMzMxMREDNzMzMzExBQGZmZmZmJkdAmpmZmZkZRUAAAAAAAEBDQJqZmZmZmUNAmpmZmZnZRkAzMzMzM7NLQDMzMzMzs0ZAmpmZmZkZQUBmZmZmZmZBQDMzMzMzc0RAzczMzMyMQ0BmZmZmZuZBQJqZmZmZmUBAAAAAAACARkAAAAAAAIBJQAAAAAAAAERAAAAAAABAUEAAAAAAAABKQAAAAAAAAElAAAAAAACAQUAAAAAAAABJQAAAAAAAgEtAAAAAAAAAS0AAAAAAAABJQAAAAAAAAEpAAAAAAAAAREAAAAAAAABHQAAAAAAAAEFAAAAAAAAARkAAAAAAAIBFQAAAAAAAgEdAAAAAAAAARUAAAAAAAIBGQAAAAAAAgEtAAAAAAAAAQ0AAAAAAAIBDQAAAAAAAgEhAAAAAAAAATkAAAAAAAIBIQAAAAAAAAEhAAAAAAACARkAAAAAAAIBPQJqZmZmZGU1AAAAAAAAARUAAAAAAAABJQAAAAAAAAEFAAAAAAAAAQ0AAAAAAAIBEQAAAAAAAgEJAAAAAAAAAREAAAAAAAIBJQAAAAAAAAEtAAAAAAAAAREAAAAAAAABNQAAAAAAAAD9AAAAAAAAARUAAAAAAAABJQAAAAAAAgEpAAAAAAABAUUAAAAAAAABIQAAAAAAAAElAAAAAAACARUAAAAAAAIBDQAAAAAAAgEJAAAAAAAAASEAAAAAAAABFQAAAAAAAAEJAAAAAAAAARkAAAAAAAABLQJqZmZmZWURAAAAAAAAATkBmZmZmZuZDQAAAAAAAgEhAAAAAAACARkAAAAAAAIBFQAAAAAAAgEhAAAAAAACAQkAAAAAAAABQQAAAAAAAAD9AmpmZmZkZT0DNzMzMzExBQAAAAAAAgERAAAAAAAAAQUAAAAAAAIBFQM3MzMzMjEdAAAAAAACAS0AAAAAAAEBHQAAAAAAAgEFAAAAAAACARkAAAAAAAIBHQDMzMzMzM01AzczMzMwMSEAAAAAAAABAQAAAAAAAAENAAAAAAACARkAAAAAAAABKQAAAAAAAgENAAAAAAACAREAAAAAAAIBFQAAAAAAAgEpAAAAAAAAARkAAAAAAAABNQAAAAAAAAEVAAAAAAAAAQ0AAAAAAAIBBQAAAAAAAgERAAAAAAAAAQ0AAAAAAAABEQAAAAAAAgEdAAAAAAACAR0AAAAAAAABNQAAAAAAAgEdAAAAAAACAREAAAAAAAABEQAAAAAAAAEZAAAAAAACAQEAAAAAAAABEQAAAAAAAgEZAAAAAAACAREAAAAAAAABDQAAAAAAAAEhAAAAAAAAARUAAAAAAAABEQAAAAAAAAElAAAAAAACAR0AAAAAAAABIQAAAAAAAAENAAAAAAAAAR0AAAAAAAIBFQAAAAAAAAEdAAAAAAAAAR0CamZmZmVlGQAAAAAAAgEZAAAAAAACAQ0AAAAAAAIBFQAAAAAAAAEJAAAAAAACARUAAAAAAAABNQJqZmZmZGUJAAAAAAAAARkAAAAAAAABPQAAAAAAAgERAAAAAAAAAR0AAAAAAAABFQJqZmZmZGUNAAAAAAACAR0AAAAAAAABAQAAAAAAAAExAAAAAAACAQ0AAAAAAAABJQAAAAAAAAEhAAAAAAACAQ0AAAAAAAABFQAAAAAAAgEFAAAAAAAAARUAAAAAAAIBBQAAAAAAAAEJAAAAAAACAQUAAAAAAAIBLQAAAAAAAAERAAAAAAAAASEAAAAAAAABNQAAAAAAAQFJAAAAAAAAATUAAAAAAAIBHQAAAAAAAgEdAAAAAAADAUEAAAAAAAIBJQAAAAAAAgEZAAAAAAACATUAAAAAAAABJQAAAAAAAAERAAAAAAAAAQ0AAAAAAAABAQAAAAAAAAEJAAAAAAACAS0AAAAAAAIBRQAAAAAAAAE9AAAAAAAAAQkAAAAAAAIBGQAAAAAAAAERAAAAAAAAAQ0AAAAAAAIBIQDMzMzMzM0ZAAAAAAACARkAAAAAAAMBDQDMzMzMzc0lAAAAAAACAQECamZmZmRlCQJqZmZmZmURAAAAAAAAgU0AAAAAAAIBEQAAAAAAAAEBAMzMzMzMzT0AAAAAAAIBMQAAAAAAAAEBAAAAAAAAASEBmZmZmZiZBQAAAAAAAAERAZmZmZmYmQEDNzMzMzIxLQAAAAAAAgEZAAAAAAAAASUAAAAAAAIBFQAAAAAAAAERAmpmZmZnZSECamZmZmdlKQM3MzMzMDEVAzczMzMyMRkAAAAAAAIBIQAAAAAAAAEhAzczMzMzMRkDNzMzMzMxCQJqZmZmZmUBAzczMzMzMRkAAAAAAAABFQDMzMzMzc0RAAAAAAACARkAAAAAAAIBQQAAAAAAAgEZAAAAAAACARkAAAAAAAABIQAAAAAAAgEFAAAAAAAAAQEAAAAAAAABBQAAAAAAAAERAAAAAAAAASEAAAAAAAABIQAAAAAAAgE1AAAAAAACAR0AAAAAAAIBHQAAAAAAAgEFAAAAAAAAAQkAAAAAAAABBQAAAAAAAAElAAAAAAAAASEAAAAAAAABNQAAAAAAAgEtAAAAAAAAATkAAAAAAAABEQAAAAAAAAEZAAAAAAAAARkAAAAAAAIBHQAAAAAAAAEZAZmZmZmamR0AAAAAAAABHQAAAAAAAgEpAAAAAAACARUBmZmZmZuZBQM3MzMzMzENAzczMzMxMREAzMzMzM3NFQDMzMzMz80VAZmZmZmYmREAAAAAAAIBJQAAAAAAAgEZAzczMzMxMRUAAAAAAAABIQJqZmZmZWUJAZmZmZmbmRkBmZmZmZqZCQAAAAAAAQEFAAAAAAACASEAAAAAAAEBEQAAAAAAAgENAAAAAAACASEAAAAAAAEBGQM3MzMzMjEBAzczMzMzMRkAAAAAAAABCQAAAAAAAgEtAAAAAAACARkAAAAAAAABKQAAAAAAAgEtAAAAAAACARkAAAAAAAIBIQAAAAAAAAEJAAAAAAAAARUAAAAAAAABEQAAAAAAAAElAAAAAAACATEAAAAAAAIBCQAAAAAAAAENAAAAAAAAAQ0AAAAAAAABHQAAAAAAAgEVAAAAAAAAAREAAAAAAAABCQAAAAAAAAEdAAAAAAAAASEAAAAAAAIBIQAAAAAAAAERAAAAAAACAQ0AAAAAAAIBBQAAAAAAAAEZAAAAAAAAAQ0AAAAAAAIBKQAAAAAAAAERAAAAAAACAQUAAAAAAAABFQAAAAAAAAFFAAAAAAACAQUCamZmZmZlGQAAAAAAAgENAAAAAAAAAQkAAAAAAAABHQAAAAAAAAERAMzMzMzOzQUAAAAAAAEBRQAAAAAAAAE5AAAAAAAAARUAAAAAAAABDQAAAAAAAAERAAAAAAAAAR0AAAAAAAABHQAAAAAAAAFBAMzMzMzNzR0AAAAAAAEBDQAAAAAAAQERAAAAAAAAATEAAAAAAAABEQGZmZmZmJkVAAAAAAAAAQ0CamZmZmZlLQAAAAAAAgEZAAAAAAAAASkAAAAAAAABEQAAAAAAAAERAAAAAAAAAQEAAAAAAAABAQAAAAAAAAEhAAAAAAAAAREAAAAAAAABJQAAAAAAAAERAAAAAAAAAQkAAAAAAAIBGQAAAAAAAgEZAAAAAAACARkAAAAAAAABCQAAAAAAAgEZAAAAAAAAAR0AAAAAAAABDQAAAAAAAgEZAAAAAAAAARUAAAAAAAEBQQAAAAAAAgEZAmpmZmZlZR0AAAAAAAMBDQAAAAAAAAElAAAAAAAAARUAAAAAAAEBQQAAAAAAAAExAAAAAAACARkAAAAAAAABJQAAAAAAAAEBAAAAAAACAQkAAAAAAAABIQAAAAAAAgEtAAAAAAAAARkAAAAAAAIBCQGZmZmZmpkFAMzMzMzNzRkAAAAAAAABMQJqZmZmZ2UhAzczMzMzMSUAzMzMzM/NHQAAAAAAAgEdAAAAAAACATUAAAAAAAIBFQM3MzMzMDEZAzczMzMyMSUAAAAAAAABFQAAAAAAAAERAmpmZmZlZRUAAAAAAAIA/QAAAAAAAgERAmpmZmZmZQ0AAAAAAAMBEQM3MzMzMzElAAAAAAAAAQ0AAAAAAAABNQJqZmZmZGUZAzczMzMzMRECamZmZmRlCQAAAAAAAAFBAmpmZmZnZREDNzMzMzExKQAAAAAAAAPh/AAAAAAAA+H8AAAAAAAD4fwAAAAAAAPh/AAAAAAAASUAAAAAAAIBBQAAAAAAAAPh/AAAAAAAA+H8AAAAAAIBGQAAAAAAAgEZAAAAAAACARkAAAAAAAABIQAAAAAAAAEhAAAAAAACARkAAAAAAAABAQAAAAAAAAERAAAAAAAAASUAAAAAAAAA+QAAAAAAAAEpAAAAAAACAQkAAAAAAAABEQAAAAAAAgEJAAAAAAACAS0AAAAAAAIBEQAAAAAAAAERAAAAAAACAW0AAAAAAAABBQAAAAAAAAERAAAAAAACAQ0AAAAAAAABBQAAAAAAAAEBAMzMzMzPzREAAAAAAAABEQAAAAAAAAEVAAAAAAAAASUAAAAAAAABEQAAAAAAAAEVAAAAAAAAAREAAAAAAAABEQAAAAAAAgEhAAAAAAAAARUAAAAAAAABJQAAAAAAAAExAAAAAAACAQ0AAAAAAAABCQAAAAAAAwFBAAAAAAABAUkBmZmZmZiZAQJqZmZmZGUNAAAAAAAAATEAAAAAAAAA+QAAAAAAAgEJAAAAAAACARkAAAAAAAIBGQAAAAAAAgEFAAAAAAAAAREAAAAAAAABFQAAAAAAAAERAAAAAAACARkAAAAAAAIBBQAAAAAAAAElAAAAAAAAAREAAAAAAAABKQAAAAAAAAElAAAAAAAAARkAAAAAAAIBLQAAAAAAAgEtAAAAAAACAT0DNzMzMzExDQAAAAAAAQFBAAAAAAAAA+H8AAAAAAIBGQDMzMzMzc0JAAAAAAAAARUAAAAAAAABFQAAAAAAAAEVAAAAAAACAQEAAAAAAAABFQAAAAAAAAEZAAAAAAAAAQUAAAAAAAABBQAAAAAAAgExAAAAAAAAASUAAAAAAAABDQAAAAAAAAEhAAAAAAAAASEAAAAAAAIBDQAAAAAAAAElAAAAAAAAAREBmZmZmZqZGQAAAAAAAgEhAAAAAAAAATkAAAAAAAAD4fwAAAAAAgEhAAAAAAAAAQUAAAAAAAABMQGZmZmZmpkJAAAAAAAAATEDNzMzMzExHQAAAAAAAgE1AAAAAAACAREAAAAAAAMBPQDMzMzMzs0NAAAAAAAAAREAAAAAAAABIQAAAAAAAAERAAAAAAACATEAAAAAAAABIQM3MzMzMTEVAAAAAAACATkAAAAAAAABJQAAAAAAAAEhAAAAAAAAASUAAAAAAAABDQAAAAAAAQERAAAAAAAAATUAAAAAAAABIQAAAAAAAAEdAAAAAAAAATkAAAAAAAABOQAAAAAAAgEBAAAAAAACASEDNzMzMzMxFQAAAAAAAAEhAAAAAAACARkAAAAAAAABKQAAAAAAAgEpAAAAAAAAAQEAAAAAAAABLQDMzMzMzM0hAAAAAAACAR0DNzMzMzAxOQGZmZmZmJkNAMzMzMzMzSECamZmZmRlEQM3MzMzMTEdAAAAAAABAR0AAAAAAAMBFQAAAAAAAwEdAAAAAAAAASEAAAAAAAABHQAAAAAAAAE9AmpmZmZmZRUAzMzMzM7NEQAAAAAAAgEBAAAAAAAAASUCamZmZmVlHQAAAAAAAAEZAAAAAAACARkDNzMzMzExKQJqZmZmZWUVAzczMzMwMUEAAAAAAAEBDQAAAAAAAgEJAZmZmZmZmR0A=",
          "dtype": "f8"
         },
         "yaxis": "y"
        }
       ],
       "layout": {
        "legend": {
         "tracegroupgap": 0
        },
        "margin": {
         "t": 60
        },
        "template": {
         "data": {
          "bar": [
           {
            "error_x": {
             "color": "#2a3f5f"
            },
            "error_y": {
             "color": "#2a3f5f"
            },
            "marker": {
             "line": {
              "color": "#E5ECF6",
              "width": 0.5
             },
             "pattern": {
              "fillmode": "overlay",
              "size": 10,
              "solidity": 0.2
             }
            },
            "type": "bar"
           }
          ],
          "barpolar": [
           {
            "marker": {
             "line": {
              "color": "#E5ECF6",
              "width": 0.5
             },
             "pattern": {
              "fillmode": "overlay",
              "size": 10,
              "solidity": 0.2
             }
            },
            "type": "barpolar"
           }
          ],
          "carpet": [
           {
            "aaxis": {
             "endlinecolor": "#2a3f5f",
             "gridcolor": "white",
             "linecolor": "white",
             "minorgridcolor": "white",
             "startlinecolor": "#2a3f5f"
            },
            "baxis": {
             "endlinecolor": "#2a3f5f",
             "gridcolor": "white",
             "linecolor": "white",
             "minorgridcolor": "white",
             "startlinecolor": "#2a3f5f"
            },
            "type": "carpet"
           }
          ],
          "choropleth": [
           {
            "colorbar": {
             "outlinewidth": 0,
             "ticks": ""
            },
            "type": "choropleth"
           }
          ],
          "contour": [
           {
            "colorbar": {
             "outlinewidth": 0,
             "ticks": ""
            },
            "colorscale": [
             [
              0,
              "#0d0887"
             ],
             [
              0.1111111111111111,
              "#46039f"
             ],
             [
              0.2222222222222222,
              "#7201a8"
             ],
             [
              0.3333333333333333,
              "#9c179e"
             ],
             [
              0.4444444444444444,
              "#bd3786"
             ],
             [
              0.5555555555555556,
              "#d8576b"
             ],
             [
              0.6666666666666666,
              "#ed7953"
             ],
             [
              0.7777777777777778,
              "#fb9f3a"
             ],
             [
              0.8888888888888888,
              "#fdca26"
             ],
             [
              1,
              "#f0f921"
             ]
            ],
            "type": "contour"
           }
          ],
          "contourcarpet": [
           {
            "colorbar": {
             "outlinewidth": 0,
             "ticks": ""
            },
            "type": "contourcarpet"
           }
          ],
          "heatmap": [
           {
            "colorbar": {
             "outlinewidth": 0,
             "ticks": ""
            },
            "colorscale": [
             [
              0,
              "#0d0887"
             ],
             [
              0.1111111111111111,
              "#46039f"
             ],
             [
              0.2222222222222222,
              "#7201a8"
             ],
             [
              0.3333333333333333,
              "#9c179e"
             ],
             [
              0.4444444444444444,
              "#bd3786"
             ],
             [
              0.5555555555555556,
              "#d8576b"
             ],
             [
              0.6666666666666666,
              "#ed7953"
             ],
             [
              0.7777777777777778,
              "#fb9f3a"
             ],
             [
              0.8888888888888888,
              "#fdca26"
             ],
             [
              1,
              "#f0f921"
             ]
            ],
            "type": "heatmap"
           }
          ],
          "histogram": [
           {
            "marker": {
             "pattern": {
              "fillmode": "overlay",
              "size": 10,
              "solidity": 0.2
             }
            },
            "type": "histogram"
           }
          ],
          "histogram2d": [
           {
            "colorbar": {
             "outlinewidth": 0,
             "ticks": ""
            },
            "colorscale": [
             [
              0,
              "#0d0887"
             ],
             [
              0.1111111111111111,
              "#46039f"
             ],
             [
              0.2222222222222222,
              "#7201a8"
             ],
             [
              0.3333333333333333,
              "#9c179e"
             ],
             [
              0.4444444444444444,
              "#bd3786"
             ],
             [
              0.5555555555555556,
              "#d8576b"
             ],
             [
              0.6666666666666666,
              "#ed7953"
             ],
             [
              0.7777777777777778,
              "#fb9f3a"
             ],
             [
              0.8888888888888888,
              "#fdca26"
             ],
             [
              1,
              "#f0f921"
             ]
            ],
            "type": "histogram2d"
           }
          ],
          "histogram2dcontour": [
           {
            "colorbar": {
             "outlinewidth": 0,
             "ticks": ""
            },
            "colorscale": [
             [
              0,
              "#0d0887"
             ],
             [
              0.1111111111111111,
              "#46039f"
             ],
             [
              0.2222222222222222,
              "#7201a8"
             ],
             [
              0.3333333333333333,
              "#9c179e"
             ],
             [
              0.4444444444444444,
              "#bd3786"
             ],
             [
              0.5555555555555556,
              "#d8576b"
             ],
             [
              0.6666666666666666,
              "#ed7953"
             ],
             [
              0.7777777777777778,
              "#fb9f3a"
             ],
             [
              0.8888888888888888,
              "#fdca26"
             ],
             [
              1,
              "#f0f921"
             ]
            ],
            "type": "histogram2dcontour"
           }
          ],
          "mesh3d": [
           {
            "colorbar": {
             "outlinewidth": 0,
             "ticks": ""
            },
            "type": "mesh3d"
           }
          ],
          "parcoords": [
           {
            "line": {
             "colorbar": {
              "outlinewidth": 0,
              "ticks": ""
             }
            },
            "type": "parcoords"
           }
          ],
          "pie": [
           {
            "automargin": true,
            "type": "pie"
           }
          ],
          "scatter": [
           {
            "fillpattern": {
             "fillmode": "overlay",
             "size": 10,
             "solidity": 0.2
            },
            "type": "scatter"
           }
          ],
          "scatter3d": [
           {
            "line": {
             "colorbar": {
              "outlinewidth": 0,
              "ticks": ""
             }
            },
            "marker": {
             "colorbar": {
              "outlinewidth": 0,
              "ticks": ""
             }
            },
            "type": "scatter3d"
           }
          ],
          "scattercarpet": [
           {
            "marker": {
             "colorbar": {
              "outlinewidth": 0,
              "ticks": ""
             }
            },
            "type": "scattercarpet"
           }
          ],
          "scattergeo": [
           {
            "marker": {
             "colorbar": {
              "outlinewidth": 0,
              "ticks": ""
             }
            },
            "type": "scattergeo"
           }
          ],
          "scattergl": [
           {
            "marker": {
             "colorbar": {
              "outlinewidth": 0,
              "ticks": ""
             }
            },
            "type": "scattergl"
           }
          ],
          "scattermap": [
           {
            "marker": {
             "colorbar": {
              "outlinewidth": 0,
              "ticks": ""
             }
            },
            "type": "scattermap"
           }
          ],
          "scattermapbox": [
           {
            "marker": {
             "colorbar": {
              "outlinewidth": 0,
              "ticks": ""
             }
            },
            "type": "scattermapbox"
           }
          ],
          "scatterpolar": [
           {
            "marker": {
             "colorbar": {
              "outlinewidth": 0,
              "ticks": ""
             }
            },
            "type": "scatterpolar"
           }
          ],
          "scatterpolargl": [
           {
            "marker": {
             "colorbar": {
              "outlinewidth": 0,
              "ticks": ""
             }
            },
            "type": "scatterpolargl"
           }
          ],
          "scatterternary": [
           {
            "marker": {
             "colorbar": {
              "outlinewidth": 0,
              "ticks": ""
             }
            },
            "type": "scatterternary"
           }
          ],
          "surface": [
           {
            "colorbar": {
             "outlinewidth": 0,
             "ticks": ""
            },
            "colorscale": [
             [
              0,
              "#0d0887"
             ],
             [
              0.1111111111111111,
              "#46039f"
             ],
             [
              0.2222222222222222,
              "#7201a8"
             ],
             [
              0.3333333333333333,
              "#9c179e"
             ],
             [
              0.4444444444444444,
              "#bd3786"
             ],
             [
              0.5555555555555556,
              "#d8576b"
             ],
             [
              0.6666666666666666,
              "#ed7953"
             ],
             [
              0.7777777777777778,
              "#fb9f3a"
             ],
             [
              0.8888888888888888,
              "#fdca26"
             ],
             [
              1,
              "#f0f921"
             ]
            ],
            "type": "surface"
           }
          ],
          "table": [
           {
            "cells": {
             "fill": {
              "color": "#EBF0F8"
             },
             "line": {
              "color": "white"
             }
            },
            "header": {
             "fill": {
              "color": "#C8D4E3"
             },
             "line": {
              "color": "white"
             }
            },
            "type": "table"
           }
          ]
         },
         "layout": {
          "annotationdefaults": {
           "arrowcolor": "#2a3f5f",
           "arrowhead": 0,
           "arrowwidth": 1
          },
          "autotypenumbers": "strict",
          "coloraxis": {
           "colorbar": {
            "outlinewidth": 0,
            "ticks": ""
           }
          },
          "colorscale": {
           "diverging": [
            [
             0,
             "#8e0152"
            ],
            [
             0.1,
             "#c51b7d"
            ],
            [
             0.2,
             "#de77ae"
            ],
            [
             0.3,
             "#f1b6da"
            ],
            [
             0.4,
             "#fde0ef"
            ],
            [
             0.5,
             "#f7f7f7"
            ],
            [
             0.6,
             "#e6f5d0"
            ],
            [
             0.7,
             "#b8e186"
            ],
            [
             0.8,
             "#7fbc41"
            ],
            [
             0.9,
             "#4d9221"
            ],
            [
             1,
             "#276419"
            ]
           ],
           "sequential": [
            [
             0,
             "#0d0887"
            ],
            [
             0.1111111111111111,
             "#46039f"
            ],
            [
             0.2222222222222222,
             "#7201a8"
            ],
            [
             0.3333333333333333,
             "#9c179e"
            ],
            [
             0.4444444444444444,
             "#bd3786"
            ],
            [
             0.5555555555555556,
             "#d8576b"
            ],
            [
             0.6666666666666666,
             "#ed7953"
            ],
            [
             0.7777777777777778,
             "#fb9f3a"
            ],
            [
             0.8888888888888888,
             "#fdca26"
            ],
            [
             1,
             "#f0f921"
            ]
           ],
           "sequentialminus": [
            [
             0,
             "#0d0887"
            ],
            [
             0.1111111111111111,
             "#46039f"
            ],
            [
             0.2222222222222222,
             "#7201a8"
            ],
            [
             0.3333333333333333,
             "#9c179e"
            ],
            [
             0.4444444444444444,
             "#bd3786"
            ],
            [
             0.5555555555555556,
             "#d8576b"
            ],
            [
             0.6666666666666666,
             "#ed7953"
            ],
            [
             0.7777777777777778,
             "#fb9f3a"
            ],
            [
             0.8888888888888888,
             "#fdca26"
            ],
            [
             1,
             "#f0f921"
            ]
           ]
          },
          "colorway": [
           "#636efa",
           "#EF553B",
           "#00cc96",
           "#ab63fa",
           "#FFA15A",
           "#19d3f3",
           "#FF6692",
           "#B6E880",
           "#FF97FF",
           "#FECB52"
          ],
          "font": {
           "color": "#2a3f5f"
          },
          "geo": {
           "bgcolor": "white",
           "lakecolor": "white",
           "landcolor": "#E5ECF6",
           "showlakes": true,
           "showland": true,
           "subunitcolor": "white"
          },
          "hoverlabel": {
           "align": "left"
          },
          "hovermode": "closest",
          "mapbox": {
           "style": "light"
          },
          "paper_bgcolor": "white",
          "plot_bgcolor": "#E5ECF6",
          "polar": {
           "angularaxis": {
            "gridcolor": "white",
            "linecolor": "white",
            "ticks": ""
           },
           "bgcolor": "#E5ECF6",
           "radialaxis": {
            "gridcolor": "white",
            "linecolor": "white",
            "ticks": ""
           }
          },
          "scene": {
           "xaxis": {
            "backgroundcolor": "#E5ECF6",
            "gridcolor": "white",
            "gridwidth": 2,
            "linecolor": "white",
            "showbackground": true,
            "ticks": "",
            "zerolinecolor": "white"
           },
           "yaxis": {
            "backgroundcolor": "#E5ECF6",
            "gridcolor": "white",
            "gridwidth": 2,
            "linecolor": "white",
            "showbackground": true,
            "ticks": "",
            "zerolinecolor": "white"
           },
           "zaxis": {
            "backgroundcolor": "#E5ECF6",
            "gridcolor": "white",
            "gridwidth": 2,
            "linecolor": "white",
            "showbackground": true,
            "ticks": "",
            "zerolinecolor": "white"
           }
          },
          "shapedefaults": {
           "line": {
            "color": "#2a3f5f"
           }
          },
          "ternary": {
           "aaxis": {
            "gridcolor": "white",
            "linecolor": "white",
            "ticks": ""
           },
           "baxis": {
            "gridcolor": "white",
            "linecolor": "white",
            "ticks": ""
           },
           "bgcolor": "#E5ECF6",
           "caxis": {
            "gridcolor": "white",
            "linecolor": "white",
            "ticks": ""
           }
          },
          "title": {
           "x": 0.05
          },
          "xaxis": {
           "automargin": true,
           "gridcolor": "white",
           "linecolor": "white",
           "ticks": "",
           "title": {
            "standoff": 15
           },
           "zerolinecolor": "white",
           "zerolinewidth": 2
          },
          "yaxis": {
           "automargin": true,
           "gridcolor": "white",
           "linecolor": "white",
           "ticks": "",
           "title": {
            "standoff": 15
           },
           "zerolinecolor": "white",
           "zerolinewidth": 2
          }
         }
        },
        "xaxis": {
         "anchor": "y",
         "domain": [
          0,
          1
         ],
         "title": {
          "text": "Age"
         }
        },
        "yaxis": {
         "anchor": "x",
         "domain": [
          0,
          1
         ],
         "title": {
          "text": "WtinKgs"
         }
        }
       }
      }
     },
     "metadata": {},
     "output_type": "display_data"
    }
   ],
   "source": [
    "px.scatter(india_tb,x=\"Age\",y=\"WtinKgs\")"
   ]
  }
 ],
 "metadata": {
  "kernelspec": {
   "display_name": ".venv",
   "language": "python",
   "name": "python3"
  },
  "language_info": {
   "name": "python",
   "version": "3.12.0"
  }
 },
 "nbformat": 4,
 "nbformat_minor": 2
}
